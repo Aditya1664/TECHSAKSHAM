{
 "cells": [
  {
   "cell_type": "code",
   "execution_count": 3,
   "id": "9019f7f9-cdbd-4117-ac0c-0a9fe688e4e4",
   "metadata": {},
   "outputs": [
    {
     "name": "stdout",
     "output_type": "stream",
     "text": [
      "Collecting mysql-connector-pythonNote: you may need to restart the kernel to use updated packages.\n",
      "\n",
      "  Downloading mysql_connector_python-9.2.0-cp312-cp312-win_amd64.whl.metadata (6.2 kB)\n",
      "Downloading mysql_connector_python-9.2.0-cp312-cp312-win_amd64.whl (16.1 MB)\n",
      "   ---------------------------------------- 0.0/16.1 MB ? eta -:--:--\n",
      "    --------------------------------------- 0.3/16.1 MB ? eta -:--:--\n",
      "   - -------------------------------------- 0.8/16.1 MB 2.8 MB/s eta 0:00:06\n",
      "   --- ------------------------------------ 1.3/16.1 MB 2.7 MB/s eta 0:00:06\n",
      "   ----- ---------------------------------- 2.1/16.1 MB 2.8 MB/s eta 0:00:06\n",
      "   ------ --------------------------------- 2.6/16.1 MB 2.7 MB/s eta 0:00:05\n",
      "   ------- -------------------------------- 2.9/16.1 MB 2.4 MB/s eta 0:00:06\n",
      "   -------- ------------------------------- 3.4/16.1 MB 2.5 MB/s eta 0:00:06\n",
      "   --------- ------------------------------ 3.9/16.1 MB 2.6 MB/s eta 0:00:05\n",
      "   ----------- ---------------------------- 4.5/16.1 MB 2.6 MB/s eta 0:00:05\n",
      "   ------------- -------------------------- 5.2/16.1 MB 2.6 MB/s eta 0:00:05\n",
      "   --------------- ------------------------ 6.3/16.1 MB 2.8 MB/s eta 0:00:04\n",
      "   ------------------ --------------------- 7.3/16.1 MB 3.0 MB/s eta 0:00:03\n",
      "   -------------------- ------------------- 8.4/16.1 MB 3.1 MB/s eta 0:00:03\n",
      "   ---------------------- ----------------- 9.2/16.1 MB 3.2 MB/s eta 0:00:03\n",
      "   ------------------------ --------------- 9.7/16.1 MB 3.2 MB/s eta 0:00:03\n",
      "   -------------------------- ------------- 10.5/16.1 MB 3.2 MB/s eta 0:00:02\n",
      "   ---------------------------- ----------- 11.5/16.1 MB 3.2 MB/s eta 0:00:02\n",
      "   ------------------------------ --------- 12.3/16.1 MB 3.3 MB/s eta 0:00:02\n",
      "   --------------------------------- ------ 13.4/16.1 MB 3.4 MB/s eta 0:00:01\n",
      "   ------------------------------------ --- 14.7/16.1 MB 3.5 MB/s eta 0:00:01\n",
      "   ------------------------------------- -- 15.2/16.1 MB 3.5 MB/s eta 0:00:01\n",
      "   ---------------------------------------  15.7/16.1 MB 3.4 MB/s eta 0:00:01\n",
      "   ---------------------------------------  16.0/16.1 MB 3.4 MB/s eta 0:00:01\n",
      "   ---------------------------------------- 16.1/16.1 MB 3.3 MB/s eta 0:00:00\n",
      "Installing collected packages: mysql-connector-python\n",
      "Successfully installed mysql-connector-python-9.2.0\n"
     ]
    }
   ],
   "source": [
    "pip install mysql-connector-python\n",
    "\n",
    "#pip install pysql\n",
    "#db=pysql.connect()"
   ]
  },
  {
   "cell_type": "code",
   "execution_count": 41,
   "id": "a41c9a1c-1a89-418c-a92e-0e4af656da9d",
   "metadata": {},
   "outputs": [
    {
     "name": "stdout",
     "output_type": "stream",
     "text": [
      "<mysql.connector.connection_cext.CMySQLConnection object at 0x000002B44C5BB710>\n"
     ]
    }
   ],
   "source": [
    "import mysql.connector\n",
    "\n",
    "db=mysql.connector.connect(\n",
    "    host=\"localhost\",\n",
    "    user=\"root\",\n",
    "    password=\"India@11\",\n",
    "    database=\"booklist\"\n",
    ")\n",
    "\n",
    "print(db)"
   ]
  },
  {
   "cell_type": "code",
   "execution_count": 43,
   "id": "9c53e825-1284-4364-9a93-b826ab734a92",
   "metadata": {},
   "outputs": [],
   "source": [
    "dbcursor=db.cursor()\n",
    "dbcursor.execute(\"Create database if not exists booklist\")"
   ]
  },
  {
   "cell_type": "code",
   "execution_count": 45,
   "id": "c45c3b29-ef3e-497c-81ce-beefd626d13c",
   "metadata": {},
   "outputs": [],
   "source": [
    "dbcursor.execute(\"show databases\")"
   ]
  },
  {
   "cell_type": "code",
   "execution_count": 47,
   "id": "23b4d2bf-f105-40a0-9737-6702c28a4092",
   "metadata": {},
   "outputs": [
    {
     "name": "stdout",
     "output_type": "stream",
     "text": [
      "('aditya',)\n",
      "('assignment_schema',)\n",
      "('booklist',)\n",
      "('customer_orders',)\n",
      "('data',)\n",
      "('hr',)\n",
      "('information_schema',)\n",
      "('mysql',)\n",
      "('performance_schema',)\n",
      "('student',)\n",
      "('sys',)\n",
      "('techsaksham',)\n",
      "('temp_schema',)\n"
     ]
    }
   ],
   "source": [
    "for i in dbcursor:\n",
    "    print(i)"
   ]
  },
  {
   "cell_type": "code",
   "execution_count": 49,
   "id": "2f399612-d3ce-41f7-ba44-e966b2b0bf3d",
   "metadata": {},
   "outputs": [
    {
     "name": "stdout",
     "output_type": "stream",
     "text": [
      "('bookdetail',)\n"
     ]
    }
   ],
   "source": [
    "dbcursor=db.cursor()\n",
    "dbcursor.execute(\"create table if not exists booklist.bookdetail (Rating int, BOOK VARCHAR(40), PRICE DECIMAL(16,2))\")\n",
    "dbcursor.execute(\"show tables\")\n",
    "for i in dbcursor:\n",
    "    print(i)"
   ]
  },
  {
   "cell_type": "code",
   "execution_count": 51,
   "id": "15a356b7-93da-4927-b022-2bb09976a01a",
   "metadata": {},
   "outputs": [],
   "source": [
    "dbcursor.execute(\"\"\"\n",
    "    INSERT INTO bookdetail (Rating, BOOK, PRICE) VALUES \n",
    "    (5, 'The Alchemist', 299.99), \n",
    "    (4, 'Atomic Habits', 399.50), \n",
    "    (5, 'Harry Potter', 499.75), \n",
    "    (3, 'Rich Dad Poor Dad', 199.00), \n",
    "    (4, 'The Psychology of Money', 350.25)\n",
    "\"\"\")\n",
    "\n",
    "db.commit()"
   ]
  },
  {
   "cell_type": "code",
   "execution_count": 53,
   "id": "8867d6da-abcd-428e-8661-fdb936e056ef",
   "metadata": {},
   "outputs": [
    {
     "name": "stdout",
     "output_type": "stream",
     "text": [
      "(5, 'The Alchemist', Decimal('299.99'))\n",
      "(4, 'Atomic Habits', Decimal('399.50'))\n",
      "(5, 'Harry Potter', Decimal('499.75'))\n",
      "(3, 'Rich Dad Poor Dad', Decimal('199.00'))\n",
      "(4, 'The Psychology of Money', Decimal('350.25'))\n",
      "(5, 'The Alchemist', Decimal('299.99'))\n",
      "(4, 'Atomic Habits', Decimal('399.50'))\n",
      "(5, 'Harry Potter', Decimal('499.75'))\n",
      "(3, 'Rich Dad Poor Dad', Decimal('199.00'))\n",
      "(4, 'The Psychology of Money', Decimal('350.25'))\n",
      "(5, 'The Alchemist', Decimal('299.99'))\n",
      "(4, 'Atomic Habits', Decimal('399.50'))\n",
      "(5, 'Harry Potter', Decimal('499.75'))\n",
      "(3, 'Rich Dad Poor Dad', Decimal('199.00'))\n",
      "(4, 'The Psychology of Money', Decimal('350.25'))\n"
     ]
    }
   ],
   "source": [
    "dbcursor.execute(\"SELECT * FROM bookdetail\")\n",
    "for a in dbcursor.fetchall():\n",
    "    print(a)"
   ]
  },
  {
   "cell_type": "code",
   "execution_count": 61,
   "id": "75890a23-c105-411b-8c87-2e0781542df4",
   "metadata": {},
   "outputs": [],
   "source": [
    "form=\"Insert into bookdetail(Rating,Book,Price) values(%s,%s,%s)\"\n",
    "data=[(4,\"Power of Subconscious Mind\",99),\n",
    "        (3,\"Attitude is Everything\",50),\n",
    "        (5,\"Rich dad poor dad\",149)]\n",
    "dbcursor.executemany(form,data)\n",
    "db.commit()"
   ]
  },
  {
   "cell_type": "code",
   "execution_count": 63,
   "id": "c5870fe6-4aff-48a5-8324-84b9218991c3",
   "metadata": {},
   "outputs": [
    {
     "name": "stdout",
     "output_type": "stream",
     "text": [
      "(5, 'The Alchemist', Decimal('299.99'))\n",
      "(4, 'Atomic Habits', Decimal('399.50'))\n",
      "(5, 'Harry Potter', Decimal('499.75'))\n",
      "(3, 'Rich Dad Poor Dad', Decimal('199.00'))\n",
      "(4, 'The Psychology of Money', Decimal('350.25'))\n",
      "(5, 'The Alchemist', Decimal('299.99'))\n",
      "(4, 'Atomic Habits', Decimal('399.50'))\n",
      "(5, 'Harry Potter', Decimal('499.75'))\n",
      "(3, 'Rich Dad Poor Dad', Decimal('199.00'))\n",
      "(4, 'The Psychology of Money', Decimal('350.25'))\n",
      "(5, 'The Alchemist', Decimal('299.99'))\n",
      "(4, 'Atomic Habits', Decimal('399.50'))\n",
      "(5, 'Harry Potter', Decimal('499.75'))\n",
      "(3, 'Rich Dad Poor Dad', Decimal('199.00'))\n",
      "(4, 'The Psychology of Money', Decimal('350.25'))\n",
      "(4, 'Power of Subconscious Mind', Decimal('99.00'))\n",
      "(3, 'Attitude is Everything', Decimal('50.00'))\n",
      "(5, 'Rich dad poor dad', Decimal('149.00'))\n"
     ]
    }
   ],
   "source": [
    "dbcursor.execute(\"SELECT * FROM bookdetail\")\n",
    "for a in dbcursor.fetchall():\n",
    "    print(a)"
   ]
  },
  {
   "cell_type": "code",
   "execution_count": null,
   "id": "9f7abd5e-7aec-48c7-b200-010df2208462",
   "metadata": {},
   "outputs": [],
   "source": []
  }
 ],
 "metadata": {
  "kernelspec": {
   "display_name": "Python [conda env:base] *",
   "language": "python",
   "name": "conda-base-py"
  },
  "language_info": {
   "codemirror_mode": {
    "name": "ipython",
    "version": 3
   },
   "file_extension": ".py",
   "mimetype": "text/x-python",
   "name": "python",
   "nbconvert_exporter": "python",
   "pygments_lexer": "ipython3",
   "version": "3.12.7"
  }
 },
 "nbformat": 4,
 "nbformat_minor": 5
}
