{
 "cells": [
  {
   "cell_type": "code",
   "execution_count": 29,
   "id": "0800051e-7ddb-4856-8f69-3b9ff2ede611",
   "metadata": {},
   "outputs": [
    {
     "name": "stdout",
     "output_type": "stream",
     "text": [
      "43600\n"
     ]
    }
   ],
   "source": [
    "sum=0\n",
    "unit=3550\n",
    "for elec_unit in range(1,unit+1):\n",
    "    if elec_unit<=200:\n",
    "       continue\n",
    "    elif elec_unit>200 and elec_unit<=500:\n",
    "        sum+=8\n",
    "    elif elec_unit>=501 and elec_unit<=1000:\n",
    "        sum+=11\n",
    "    else:\n",
    "        sum+=14\n",
    "print(f\"{sum}\")"
   ]
  },
  {
   "cell_type": "markdown",
   "id": "55536a34-a7f4-46bf-babd-a4c1e503b83c",
   "metadata": {},
   "source": []
  },
  {
   "cell_type": "code",
   "execution_count": null,
   "id": "3a941e65-7a1f-4cdf-839f-87fba7aaf346",
   "metadata": {},
   "outputs": [],
   "source": [
    "\n"
   ]
  },
  {
   "cell_type": "code",
   "execution_count": null,
   "id": "feb1ae08-7d19-4db7-9374-7a0e33c99ddd",
   "metadata": {},
   "outputs": [],
   "source": []
  }
 ],
 "metadata": {
  "kernelspec": {
   "display_name": "Python [conda env:base] *",
   "language": "python",
   "name": "conda-base-py"
  },
  "language_info": {
   "codemirror_mode": {
    "name": "ipython",
    "version": 3
   },
   "file_extension": ".py",
   "mimetype": "text/x-python",
   "name": "python",
   "nbconvert_exporter": "python",
   "pygments_lexer": "ipython3",
   "version": "3.12.7"
  }
 },
 "nbformat": 4,
 "nbformat_minor": 5
}
