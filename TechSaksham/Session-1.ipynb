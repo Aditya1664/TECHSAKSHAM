{
 "cells": [
  {
   "cell_type": "code",
   "execution_count": 3,
   "id": "d13c1062-e186-4a9e-b976-b7eecf46418a",
   "metadata": {},
   "outputs": [
    {
     "name": "stdout",
     "output_type": "stream",
     "text": [
      "Hello World\n"
     ]
    }
   ],
   "source": [
    "print(\"Hello World\")"
   ]
  },
  {
   "cell_type": "code",
   "execution_count": 5,
   "id": "3c8b1c3b-891e-4cbd-9f29-4576fea5dc67",
   "metadata": {},
   "outputs": [
    {
     "name": "stdout",
     "output_type": "stream",
     "text": [
      "Hello.\n",
      "welcome to Solapur\n",
      "I am Aditya\n",
      "\n",
      "\n",
      "Today is not my birthday\n",
      "But someone's other birthday\n",
      "i am happy.\n"
     ]
    }
   ],
   "source": [
    "print(\"Hello.\")\n",
    "print(\"welcome to Solapur\")\n",
    "print(\"I am Aditya\")\n",
    "print(\"\\n\")\n",
    "print(\"Today is not my birthday\")\n",
    "print(\"But someone's other birthday\")\n",
    "print(\"i am happy.\")"
   ]
  },
  {
   "cell_type": "code",
   "execution_count": 7,
   "id": "6f97a57c-b401-4770-8bb5-3bf4b0b664b1",
   "metadata": {},
   "outputs": [
    {
     "data": {
      "text/plain": [
       "29"
      ]
     },
     "execution_count": 7,
     "metadata": {},
     "output_type": "execute_result"
    }
   ],
   "source": [
    "len(\"Hello my name is Aditya Doshi\")"
   ]
  },
  {
   "cell_type": "code",
   "execution_count": 11,
   "id": "7302a8f0-fa06-4efe-aea1-2d6c71bbea89",
   "metadata": {},
   "outputs": [
    {
     "data": {
      "text/plain": [
       "'Today is not my Birthday'"
      ]
     },
     "execution_count": 11,
     "metadata": {},
     "output_type": "execute_result"
    }
   ],
   "source": [
    "str=\"Today is not my Birthday\"\n",
    "str"
   ]
  },
  {
   "cell_type": "code",
   "execution_count": 13,
   "id": "0b853b1a-2de5-4b79-85f4-01a738405e25",
   "metadata": {},
   "outputs": [
    {
     "data": {
      "text/plain": [
       "24"
      ]
     },
     "execution_count": 13,
     "metadata": {},
     "output_type": "execute_result"
    }
   ],
   "source": [
    "len(str)"
   ]
  },
  {
   "cell_type": "code",
   "execution_count": 15,
   "id": "3e54334b-075d-4486-982e-1e89093a1519",
   "metadata": {},
   "outputs": [
    {
     "data": {
      "text/plain": [
       "'T'"
      ]
     },
     "execution_count": 15,
     "metadata": {},
     "output_type": "execute_result"
    }
   ],
   "source": [
    "str[0]"
   ]
  },
  {
   "cell_type": "code",
   "execution_count": 17,
   "id": "e58ebfcc-5c9e-4d39-abb4-381534423280",
   "metadata": {},
   "outputs": [
    {
     "data": {
      "text/plain": [
       "'y is not my Birthday'"
      ]
     },
     "execution_count": 17,
     "metadata": {},
     "output_type": "execute_result"
    }
   ],
   "source": [
    "str[4:]"
   ]
  },
  {
   "cell_type": "code",
   "execution_count": 24,
   "id": "0645e5c9-b324-4ae3-be34-2059dde9f5fd",
   "metadata": {},
   "outputs": [
    {
     "data": {
      "text/plain": [
       "'day'"
      ]
     },
     "execution_count": 24,
     "metadata": {},
     "output_type": "execute_result"
    }
   ],
   "source": [
    "str[-3:]\n"
   ]
  },
  {
   "cell_type": "code",
   "execution_count": 26,
   "id": "6a8da120-1249-45cf-96d0-a934f4c7b31c",
   "metadata": {},
   "outputs": [
    {
     "data": {
      "text/plain": [
       "'Today is not my Birth'"
      ]
     },
     "execution_count": 26,
     "metadata": {},
     "output_type": "execute_result"
    }
   ],
   "source": [
    "str[:-3]"
   ]
  },
  {
   "cell_type": "code",
   "execution_count": 28,
   "id": "05b6af27-1914-48e8-9a27-ba2d58bd7fef",
   "metadata": {},
   "outputs": [
    {
     "data": {
      "text/plain": [
       "'Today is not my Birthday,He is having Birthday'"
      ]
     },
     "execution_count": 28,
     "metadata": {},
     "output_type": "execute_result"
    }
   ],
   "source": [
    "str+',He is having Birthday'"
   ]
  },
  {
   "cell_type": "code",
   "execution_count": 30,
   "id": "65ce7fe7-6ce4-46f1-a2d1-8c86de48ae81",
   "metadata": {},
   "outputs": [
    {
     "data": {
      "text/plain": [
       "'TODAY IS NOT MY BIRTHDAY'"
      ]
     },
     "execution_count": 30,
     "metadata": {},
     "output_type": "execute_result"
    }
   ],
   "source": [
    "str.upper()"
   ]
  },
  {
   "cell_type": "code",
   "execution_count": 32,
   "id": "7670fa11-c6e4-4d1c-ac75-89b800e2fc8b",
   "metadata": {},
   "outputs": [
    {
     "data": {
      "text/plain": [
       "'today is not my birthday'"
      ]
     },
     "execution_count": 32,
     "metadata": {},
     "output_type": "execute_result"
    }
   ],
   "source": [
    "str.lower()"
   ]
  },
  {
   "cell_type": "code",
   "execution_count": 34,
   "id": "d00968d1-37f7-4507-913d-bf395dfaf4fc",
   "metadata": {},
   "outputs": [
    {
     "data": {
      "text/plain": [
       "['Today', 'is', 'not', 'my', 'Birthday']"
      ]
     },
     "execution_count": 34,
     "metadata": {},
     "output_type": "execute_result"
    }
   ],
   "source": [
    "str.split()"
   ]
  },
  {
   "cell_type": "code",
   "execution_count": 38,
   "id": "141f45ae-c927-4674-a3a3-65283c3c349d",
   "metadata": {},
   "outputs": [
    {
     "name": "stdout",
     "output_type": "stream",
     "text": [
      "Enter name here Aditya then also Adit.\n"
     ]
    }
   ],
   "source": [
    "print(\"Enter name here {} then also {}.\" .format('Aditya','Adit'))"
   ]
  },
  {
   "cell_type": "code",
   "execution_count": 40,
   "id": "aca5bc95-c3e8-4239-92d4-ce423da2261b",
   "metadata": {},
   "outputs": [
    {
     "name": "stdout",
     "output_type": "stream",
     "text": [
      "Enter name here Adit then also Aditya.\n"
     ]
    }
   ],
   "source": [
    "print(\"Enter name here {1} then also {0}.\" .format('Aditya','Adit'))"
   ]
  },
  {
   "cell_type": "code",
   "execution_count": 42,
   "id": "0906775c-9a35-4a91-9711-10e853b8cbb6",
   "metadata": {},
   "outputs": [
    {
     "name": "stdout",
     "output_type": "stream",
     "text": [
      "Enter name here Adit then also Aditya.\n"
     ]
    }
   ],
   "source": [
    "print(\"Enter name here {a} then also {b}.\" .format(b='Aditya',a='Adit'))"
   ]
  },
  {
   "cell_type": "code",
   "execution_count": 44,
   "id": "82ae257c-fd75-47cc-b5d8-9075f4d73720",
   "metadata": {},
   "outputs": [
    {
     "data": {
      "text/plain": [
       "[1, 2, 3, 4, 5, 6]"
      ]
     },
     "execution_count": 44,
     "metadata": {},
     "output_type": "execute_result"
    }
   ],
   "source": [
    "lis=[1,2,3,4,5,6]\n",
    "lis"
   ]
  },
  {
   "cell_type": "code",
   "execution_count": 48,
   "id": "024bf574-64c7-45d6-b350-bc9da0fb8766",
   "metadata": {},
   "outputs": [
    {
     "data": {
      "text/plain": [
       "['Aditya', 3, 3.2, 'A', 88]"
      ]
     },
     "execution_count": 48,
     "metadata": {},
     "output_type": "execute_result"
    }
   ],
   "source": [
    "lis=[\"Aditya\",3,3.2,'A',88]\n",
    "lis"
   ]
  },
  {
   "cell_type": "code",
   "execution_count": 50,
   "id": "b6fc943d-c534-4744-aa93-ce9863755aab",
   "metadata": {},
   "outputs": [
    {
     "data": {
      "text/plain": [
       "5"
      ]
     },
     "execution_count": 50,
     "metadata": {},
     "output_type": "execute_result"
    }
   ],
   "source": [
    "len(lis)"
   ]
  },
  {
   "cell_type": "code",
   "execution_count": 52,
   "id": "52405ce5-bbc4-4b30-9c93-615989a47283",
   "metadata": {},
   "outputs": [
    {
     "data": {
      "text/plain": [
       "'Aditya'"
      ]
     },
     "execution_count": 52,
     "metadata": {},
     "output_type": "execute_result"
    }
   ],
   "source": [
    "lis[0]"
   ]
  },
  {
   "cell_type": "code",
   "execution_count": 58,
   "id": "84a1804f-d0cc-423e-9e38-d33d75e72750",
   "metadata": {},
   "outputs": [
    {
     "data": {
      "text/plain": [
       "88"
      ]
     },
     "execution_count": 58,
     "metadata": {},
     "output_type": "execute_result"
    }
   ],
   "source": [
    "lis[4]"
   ]
  },
  {
   "cell_type": "code",
   "execution_count": 60,
   "id": "5fcb6721-4db4-400e-b41a-5b7ae2827a19",
   "metadata": {},
   "outputs": [
    {
     "data": {
      "text/plain": [
       "[3.2, 'A', 88]"
      ]
     },
     "execution_count": 60,
     "metadata": {},
     "output_type": "execute_result"
    }
   ],
   "source": [
    "lis[2:]"
   ]
  },
  {
   "cell_type": "code",
   "execution_count": 62,
   "id": "ed4cdd44-af4a-4f97-b9b4-3e91159d62d4",
   "metadata": {},
   "outputs": [
    {
     "data": {
      "text/plain": [
       "['Aditya', 3, 3.2, 'A', 88, 'new item']"
      ]
     },
     "execution_count": 62,
     "metadata": {},
     "output_type": "execute_result"
    }
   ],
   "source": [
    "lis+['new item']"
   ]
  },
  {
   "cell_type": "code",
   "execution_count": 64,
   "id": "f31fa948-77de-423a-a537-9864a2d2299e",
   "metadata": {},
   "outputs": [
    {
     "data": {
      "text/plain": [
       "['Aditya', 3, 3.2, 'A', 88, 'new item in the box']"
      ]
     },
     "execution_count": 64,
     "metadata": {},
     "output_type": "execute_result"
    }
   ],
   "source": [
    "lis=lis+['new item in the box']\n",
    "lis"
   ]
  },
  {
   "cell_type": "code",
   "execution_count": 66,
   "id": "e5fc6ef1-4587-45fe-b984-91773265c20d",
   "metadata": {},
   "outputs": [
    {
     "data": {
      "text/plain": [
       "[1, 'ed', 32.2, 'de', 12]"
      ]
     },
     "execution_count": 66,
     "metadata": {},
     "output_type": "execute_result"
    }
   ],
   "source": [
    "l=[1,'ed',32.2,'de',12]\n",
    "l"
   ]
  },
  {
   "cell_type": "code",
   "execution_count": 68,
   "id": "199cc8c8-5bcb-4b20-ab46-734079f5c021",
   "metadata": {},
   "outputs": [
    {
     "data": {
      "text/plain": [
       "[1, 'ed', 32.2, 'de', 12, 'Aditya']"
      ]
     },
     "execution_count": 68,
     "metadata": {},
     "output_type": "execute_result"
    }
   ],
   "source": [
    "l.append('Aditya')\n",
    "l"
   ]
  },
  {
   "cell_type": "code",
   "execution_count": 70,
   "id": "cf7fb5fa-48e1-4082-903c-3972209dc310",
   "metadata": {},
   "outputs": [
    {
     "data": {
      "text/plain": [
       "[1, 'ed', 32.2, 'de', 12]"
      ]
     },
     "execution_count": 70,
     "metadata": {},
     "output_type": "execute_result"
    }
   ],
   "source": [
    "l.pop()\n",
    "l"
   ]
  },
  {
   "cell_type": "code",
   "execution_count": 72,
   "id": "eb1fbbab-728a-410b-b13d-6696c3c91024",
   "metadata": {},
   "outputs": [
    {
     "data": {
      "text/plain": [
       "[1, 'ed', 32.2, 12]"
      ]
     },
     "execution_count": 72,
     "metadata": {},
     "output_type": "execute_result"
    }
   ],
   "source": [
    "l.pop(3)\n",
    "l"
   ]
  },
  {
   "cell_type": "code",
   "execution_count": 74,
   "id": "66ef4b7a-04ad-4fac-b4dc-cb6bb0ad02c4",
   "metadata": {},
   "outputs": [
    {
     "data": {
      "text/plain": [
       "{'key1': 'value1', 'key2': 'value2', 'key3': 'value3'}"
      ]
     },
     "execution_count": 74,
     "metadata": {},
     "output_type": "execute_result"
    }
   ],
   "source": [
    "dict={'key1':'value1','key2':'value2','key3':'value3'}\n",
    "dict"
   ]
  },
  {
   "cell_type": "code",
   "execution_count": 76,
   "id": "dfde949d-c73f-4d5f-ac20-4cc10e8aba08",
   "metadata": {},
   "outputs": [
    {
     "data": {
      "text/plain": [
       "'value2'"
      ]
     },
     "execution_count": 76,
     "metadata": {},
     "output_type": "execute_result"
    }
   ],
   "source": [
    "dict['key2']"
   ]
  },
  {
   "cell_type": "code",
   "execution_count": 98,
   "id": "7f886e4c-e9c1-4204-ad20-f4bbab6b9ba8",
   "metadata": {},
   "outputs": [
    {
     "data": {
      "text/plain": [
       "{'key1': 123, 'key2': [1, 2, 3], 'key3': ['Aditya', 'Vinod', 'Doshi']}"
      ]
     },
     "execution_count": 98,
     "metadata": {},
     "output_type": "execute_result"
    }
   ],
   "source": [
    "dict={'key1':123,'key2':[1,2,3],'key3':['Aditya','Vinod','Doshi']}\n",
    "dict"
   ]
  },
  {
   "cell_type": "code",
   "execution_count": 100,
   "id": "1e48123d-e958-4e3d-b3ee-2ce92b6a2d24",
   "metadata": {},
   "outputs": [
    {
     "data": {
      "text/plain": [
       "3"
      ]
     },
     "execution_count": 100,
     "metadata": {},
     "output_type": "execute_result"
    }
   ],
   "source": [
    "dict['key2'][2]"
   ]
  },
  {
   "cell_type": "code",
   "execution_count": 102,
   "id": "02193861-d6a9-4ff0-91df-6c2b6eaed4a4",
   "metadata": {},
   "outputs": [
    {
     "data": {
      "text/plain": [
       "'ADITYA'"
      ]
     },
     "execution_count": 102,
     "metadata": {},
     "output_type": "execute_result"
    }
   ],
   "source": [
    "dict['key3'][0].upper()"
   ]
  },
  {
   "cell_type": "code",
   "execution_count": 104,
   "id": "565fc727-a8b2-4f8c-86f5-2c0846dfa8e5",
   "metadata": {},
   "outputs": [
    {
     "data": {
      "text/plain": [
       "{'key1': 579, 'key2': [1, 2, 3], 'key3': ['Aditya', 'Vinod', 'Doshi']}"
      ]
     },
     "execution_count": 104,
     "metadata": {},
     "output_type": "execute_result"
    }
   ],
   "source": [
    "dict['key1']=dict['key1']+456\n",
    "dict"
   ]
  },
  {
   "cell_type": "code",
   "execution_count": 106,
   "id": "5947294b-0528-4078-be3e-e2a49e2ba9bf",
   "metadata": {},
   "outputs": [
    {
     "data": {
      "text/plain": [
       "(1, 2, 3, 4, 'Adi', 'Adit', 'Aditya')"
      ]
     },
     "execution_count": 106,
     "metadata": {},
     "output_type": "execute_result"
    }
   ],
   "source": [
    "tup=(1,2,3,4,'Adi','Adit','Aditya')\n",
    "tup"
   ]
  },
  {
   "cell_type": "code",
   "execution_count": 108,
   "id": "de821e33-6c46-43eb-92ca-b160081dcaa6",
   "metadata": {},
   "outputs": [
    {
     "data": {
      "text/plain": [
       "7"
      ]
     },
     "execution_count": 108,
     "metadata": {},
     "output_type": "execute_result"
    }
   ],
   "source": [
    "len(tup)"
   ]
  },
  {
   "cell_type": "code",
   "execution_count": 116,
   "id": "6df218bd-800a-4974-a317-c0963def7b13",
   "metadata": {},
   "outputs": [
    {
     "data": {
      "text/plain": [
       "1"
      ]
     },
     "execution_count": 116,
     "metadata": {},
     "output_type": "execute_result"
    }
   ],
   "source": [
    "tup[0]"
   ]
  },
  {
   "cell_type": "code",
   "execution_count": 118,
   "id": "08698251-9b0e-48cf-9148-30a6fcbdf75b",
   "metadata": {},
   "outputs": [
    {
     "data": {
      "text/plain": [
       "'Adit'"
      ]
     },
     "execution_count": 118,
     "metadata": {},
     "output_type": "execute_result"
    }
   ],
   "source": [
    "tup[-2]"
   ]
  },
  {
   "cell_type": "code",
   "execution_count": 120,
   "id": "544d0c2a-1983-485f-9451-b2bd795e9088",
   "metadata": {},
   "outputs": [
    {
     "ename": "TypeError",
     "evalue": "'tuple' object does not support item assignment",
     "output_type": "error",
     "traceback": [
      "\u001b[1;31m---------------------------------------------------------------------------\u001b[0m",
      "\u001b[1;31mTypeError\u001b[0m                                 Traceback (most recent call last)",
      "Cell \u001b[1;32mIn[120], line 1\u001b[0m\n\u001b[1;32m----> 1\u001b[0m tup[\u001b[38;5;241m0\u001b[39m]\u001b[38;5;241m=\u001b[39m\u001b[38;5;124m'\u001b[39m\u001b[38;5;124mchange\u001b[39m\u001b[38;5;124m'\u001b[39m\n",
      "\u001b[1;31mTypeError\u001b[0m: 'tuple' object does not support item assignment"
     ]
    }
   ],
   "source": [
    "tup[0]='change'"
   ]
  },
  {
   "cell_type": "code",
   "execution_count": 122,
   "id": "41bd4bad-076f-4edc-9397-4171a6a63f07",
   "metadata": {},
   "outputs": [
    {
     "data": {
      "text/plain": [
       "{1, 2, 3, 4}"
      ]
     },
     "execution_count": 122,
     "metadata": {},
     "output_type": "execute_result"
    }
   ],
   "source": [
    "{1,2,3,4}"
   ]
  },
  {
   "cell_type": "code",
   "execution_count": 124,
   "id": "a2684578-bf47-455c-893b-155f418267bd",
   "metadata": {},
   "outputs": [
    {
     "data": {
      "text/plain": [
       "set"
      ]
     },
     "execution_count": 124,
     "metadata": {},
     "output_type": "execute_result"
    }
   ],
   "source": [
    "type({1,2,3})"
   ]
  },
  {
   "cell_type": "code",
   "execution_count": 126,
   "id": "2c109aa5-d210-4115-8675-b68a7f63ba99",
   "metadata": {},
   "outputs": [
    {
     "data": {
      "text/plain": [
       "{1, 2, 3, 'Duplicate value'}"
      ]
     },
     "execution_count": 126,
     "metadata": {},
     "output_type": "execute_result"
    }
   ],
   "source": [
    "{1,2,3,'Duplicate value'}"
   ]
  },
  {
   "cell_type": "code",
   "execution_count": 128,
   "id": "3a00e716-c530-4291-a543-4f0a4e45d466",
   "metadata": {},
   "outputs": [
    {
     "data": {
      "text/plain": [
       "set"
      ]
     },
     "execution_count": 128,
     "metadata": {},
     "output_type": "execute_result"
    }
   ],
   "source": [
    "type({1,2,3,'Duplicate value'})"
   ]
  },
  {
   "cell_type": "code",
   "execution_count": 130,
   "id": "b9273e30-e12c-456a-92ba-da024d2af564",
   "metadata": {},
   "outputs": [
    {
     "data": {
      "text/plain": [
       "{1, 2, 3, 'Duplicate value'}"
      ]
     },
     "execution_count": 130,
     "metadata": {},
     "output_type": "execute_result"
    }
   ],
   "source": [
    "set={1,2,3,'Duplicate value'}\n",
    "set"
   ]
  },
  {
   "cell_type": "code",
   "execution_count": 134,
   "id": "44dee37d-319c-49c6-9798-44c15c55027f",
   "metadata": {},
   "outputs": [
    {
     "data": {
      "text/plain": [
       "{1, 2, 3, 4, 'Duplicate value'}"
      ]
     },
     "execution_count": 134,
     "metadata": {},
     "output_type": "execute_result"
    }
   ],
   "source": [
    "set.add(4)\n",
    "set"
   ]
  },
  {
   "cell_type": "code",
   "execution_count": 136,
   "id": "acefd483-c5ea-4117-a350-10abb35dfc6e",
   "metadata": {},
   "outputs": [
    {
     "data": {
      "text/plain": [
       "{1, 2, 3, 4, 'Duplicate value'}"
      ]
     },
     "execution_count": 136,
     "metadata": {},
     "output_type": "execute_result"
    }
   ],
   "source": [
    "set.add(1)\n",
    "set"
   ]
  },
  {
   "cell_type": "code",
   "execution_count": 138,
   "id": "67ea1d98-cae6-457a-ab0d-f371a1976b9e",
   "metadata": {},
   "outputs": [
    {
     "name": "stdout",
     "output_type": "stream",
     "text": [
      "Yes\n"
     ]
    }
   ],
   "source": [
    "if True:\n",
    "    print(\"Yes\")"
   ]
  },
  {
   "cell_type": "code",
   "execution_count": 140,
   "id": "2368bb28-84ab-44f3-baf5-18fa8bd090c8",
   "metadata": {},
   "outputs": [
    {
     "name": "stdout",
     "output_type": "stream",
     "text": [
      "Wrong\n"
     ]
    }
   ],
   "source": [
    "x=False\n",
    "if x:\n",
    "    print(\"Correct\")\n",
    "else:\n",
    "    print(\"Wrong\")"
   ]
  },
  {
   "cell_type": "code",
   "execution_count": 142,
   "id": "5ec9ccdb-0e50-4bd3-8a23-bc8f20946a85",
   "metadata": {},
   "outputs": [
    {
     "name": "stdout",
     "output_type": "stream",
     "text": [
      "Mah\n"
     ]
    }
   ],
   "source": [
    "loc='Mah'\n",
    "if loc==\"Mah\":\n",
    "    print(\"Mah\")\n",
    "elif loc=='AP':\n",
    "    print(\"AP\")\n",
    "else:\n",
    "    print(\"Where are you?\")"
   ]
  },
  {
   "cell_type": "code",
   "execution_count": 3,
   "id": "bacdf0f9-ec95-47cf-afe4-08073ac8f819",
   "metadata": {},
   "outputs": [
    {
     "name": "stdout",
     "output_type": "stream",
     "text": [
      "30 is greater than 15 and 20\n"
     ]
    }
   ],
   "source": [
    "a=15\n",
    "b=20\n",
    "c=30\n",
    "if a>b and a>c:\n",
    "    print(\"{} is greater than {} and {}\".format(a,b,c))\n",
    "elif b>c and b>a:\n",
    "     print(\"{} is greater than {} and {}\".format(b,a,c))\n",
    "else:\n",
    "     print(\"{} is greater than {} and {}\".format(c,a,b))"
   ]
  },
  {
   "cell_type": "code",
   "execution_count": null,
   "id": "3d321d25-966f-42a0-bb9f-223dc0e85d2d",
   "metadata": {},
   "outputs": [],
   "source": [
    "sum=0\n",
    "elec_unit=500\n",
    "if elec_unit<=200:\n",
    "    print(\"Cost is 0 rupees.\")\n",
    "elif elec_unit>200 and elec_unit<500:\n",
    "    print(f\"Cost is 8*{elec_unit}\")\n",
    "    sum+=8*{elec_unit}\n",
    "elif elec_unit>=500 and elec_unit<1000:\n",
    "    print(f\"Cost is 11*{elec_unit}\")\n",
    "    sum+=11*{elec_unit}\n",
    "else:\n",
    "    print(f\"Cost is 14*{elec_unit}\")\n",
    "    sum+=14*{elec_unit}\n",
    "print(f\"{sum}\")"
   ]
  },
  {
   "cell_type": "code",
   "execution_count": null,
   "id": "3846a878-c138-41fc-b812-84f6ca835c5b",
   "metadata": {},
   "outputs": [],
   "source": []
  }
 ],
 "metadata": {
  "kernelspec": {
   "display_name": "Python [conda env:base] *",
   "language": "python",
   "name": "conda-base-py"
  },
  "language_info": {
   "codemirror_mode": {
    "name": "ipython",
    "version": 3
   },
   "file_extension": ".py",
   "mimetype": "text/x-python",
   "name": "python",
   "nbconvert_exporter": "python",
   "pygments_lexer": "ipython3",
   "version": "3.12.7"
  }
 },
 "nbformat": 4,
 "nbformat_minor": 5
}
