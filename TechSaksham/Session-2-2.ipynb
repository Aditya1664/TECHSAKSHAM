{
 "cells": [
  {
   "cell_type": "code",
   "execution_count": 31,
   "id": "45b6590a-5e08-44bc-aa27-449555a0f375",
   "metadata": {},
   "outputs": [
    {
     "name": "stdout",
     "output_type": "stream",
     "text": [
      "900000.0\n"
     ]
    }
   ],
   "source": [
    "sal=4500000\n",
    "saving=150000\n",
    "if saving>200000:\n",
    "    rem=salary-200000\n",
    "else:\n",
    "    rem=salary-saving\n",
    "tax=0\n",
    "if rem>=1000000:\n",
    "    tax+=0.1*1000000\n",
    "    rem-=1000000\n",
    "elif rem>1200000:\n",
    "    tax+=0.2*1200000\n",
    "    rem-=1200000\n",
    "else:\n",
    "    tax+=0.3*3000000\n",
    "\n",
    "print(tax)"
   ]
  },
  {
   "cell_type": "code",
   "execution_count": 52,
   "id": "0b9aa3f8-75fc-4b53-b8c3-9d02d7780562",
   "metadata": {},
   "outputs": [
    {
     "name": "stdout",
     "output_type": "stream",
     "text": [
      "1045000.0\n"
     ]
    }
   ],
   "source": [
    "amt=6500000\n",
    "inter=0\n",
    "if amt>=1000000:\n",
    "    inter+=0.1*1000000\n",
    "    amt-=1000000\n",
    "if amt>=1500000:\n",
    "    inter+=0.15*1500000\n",
    "    amt-=1500000\n",
    "if amt>=0:\n",
    "    inter+=0.18*amt\n",
    "\n",
    "print(inter)"
   ]
  },
  {
   "cell_type": "code",
   "execution_count": 94,
   "id": "fea19df2-7299-47fd-924e-f1fcd313ef2f",
   "metadata": {},
   "outputs": [
    {
     "name": "stdout",
     "output_type": "stream",
     "text": [
      "5 is a prime number.\n"
     ]
    }
   ],
   "source": [
    "num=5\n",
    "x=0\n",
    "for i in range(2,num//2):\n",
    "    if num%i==0:\n",
    "        x=1\n",
    "        print(f\"{num} is not a prime number.\")\n",
    "        break\n",
    "if x==0:\n",
    "    print(f\"{num} is a prime number.\")"
   ]
  },
  {
   "cell_type": "code",
   "execution_count": 1,
   "id": "72f04fb8-a0f6-4e30-b78b-5d9ff0a2c115",
   "metadata": {},
   "outputs": [
    {
     "name": "stdout",
     "output_type": "stream",
     "text": [
      "1634 is an Armstrong Number.\n"
     ]
    }
   ],
   "source": [
    "number=1634\n",
    "le=len(str(number))\n",
    "sum=0\n",
    "for i in str(number):\n",
    "    sum+=int(i) ** le\n",
    "\n",
    "if number==sum:\n",
    "    print(f\"{number} is an Armstrong Number.\")\n",
    "else:\n",
    "    print(f\"{number} is not an Armstrong Number.\")"
   ]
  },
  {
   "cell_type": "code",
   "execution_count": 117,
   "id": "defcf4bf-1c8f-4359-8807-884ca4d899ce",
   "metadata": {},
   "outputs": [
    {
     "name": "stdout",
     "output_type": "stream",
     "text": [
      "  * \n",
      " * * \n",
      "* * * \n"
     ]
    }
   ],
   "source": [
    "r=3\n",
    "for i in range(1,r+1):\n",
    "    sp=\" \"*(r-i)\n",
    "    s=\"* \"*i\n",
    "    print(sp+s)"
   ]
  },
  {
   "cell_type": "code",
   "execution_count": 149,
   "id": "ffa33359-4422-4269-95b6-cd1f9d1e53e5",
   "metadata": {},
   "outputs": [
    {
     "name": "stdout",
     "output_type": "stream",
     "text": [
      "  1 \n",
      " 2 3 \n",
      "4 5 6 \n"
     ]
    }
   ],
   "source": [
    "r=3\n",
    "n=1\n",
    "for i in range(1,r+1):\n",
    "    sp=\" \"*(r-i)\n",
    "    print(sp,end=\"\")\n",
    "    for j in range(i):\n",
    "        print(n,end=\" \")\n",
    "        n+=1\n",
    "    print()"
   ]
  },
  {
   "cell_type": "code",
   "execution_count": 178,
   "id": "2792345b-4dcd-4316-9811-7119367da58e",
   "metadata": {},
   "outputs": [
    {
     "name": "stdout",
     "output_type": "stream",
     "text": [
      "2 is a prime number.\n",
      "3 is a prime number.\n",
      "5 is a prime number.\n",
      "7 is a prime number.\n",
      "11 is a prime number.\n",
      "13 is a prime number.\n"
     ]
    }
   ],
   "source": [
    "\n",
    "for j in range(2,17):\n",
    "    x=0\n",
    "    for i in range(2,j//2+1):\n",
    "        if j%i==0:\n",
    "            x=1\n",
    "            #print(f\"{j} is not a prime number.\")\n",
    "            break\n",
    "    if x==0:\n",
    "        print(f\"{j} is a prime number.\")"
   ]
  },
  {
   "cell_type": "code",
   "execution_count": 192,
   "id": "99d1f71d-ee02-44bf-9cf4-38cf111f912a",
   "metadata": {},
   "outputs": [
    {
     "name": "stdout",
     "output_type": "stream",
     "text": [
      "[1, 2, 3, 4, 5, 7, 8, 9]\n"
     ]
    }
   ],
   "source": [
    "l=[3,1,7,4,9,5,2,8]\n",
    "for i in range(len(l)):\n",
    "    for j in range(len(l)):\n",
    "        if l[i]<l[j]:\n",
    "            l[i],l[j]=l[j],l[i]\n",
    "print(l)"
   ]
  },
  {
   "cell_type": "code",
   "execution_count": 194,
   "id": "38fe8e81-0956-4aaf-91ac-3be05cd02c58",
   "metadata": {},
   "outputs": [
    {
     "name": "stdout",
     "output_type": "stream",
     "text": [
      "[9, 8, 7, 5, 4, 3, 2, 1]\n"
     ]
    }
   ],
   "source": [
    "l=[3,1,7,4,9,5,2,8]\n",
    "for i in range(len(l)):\n",
    "    for j in range(len(l)):\n",
    "        if l[i]>l[j]:\n",
    "            l[i],l[j]=l[j],l[i]\n",
    "print(l)"
   ]
  },
  {
   "cell_type": "code",
   "execution_count": 9,
   "id": "3c520629-808e-43d1-9b83-e781c61a47b9",
   "metadata": {},
   "outputs": [
    {
     "name": "stdout",
     "output_type": "stream",
     "text": [
      "arthsarahaM,rupaloS,ygolonhceT fo etutitsnI dnahclaW\n"
     ]
    }
   ],
   "source": [
    "st=\"Walchand Institute of Technology,Solapur,Maharashtra\"\n",
    "re=\"\"\n",
    "for i in range(len(st)-1,-1,-1):\n",
    "    re+=st[i]\n",
    "print(re)"
   ]
  },
  {
   "cell_type": "code",
   "execution_count": 23,
   "id": "e580e498-f8ee-4c0d-8731-bfe1d5863bc9",
   "metadata": {},
   "outputs": [
    {
     "name": "stdout",
     "output_type": "stream",
     "text": [
      "['W', 'l', 'h', 'n', ' ', 'n', 't', 't', 't', ' ', 'f', 'T', 'c', 'n', 'l', 'g', ',', 'o', 'a', 'u', ',', 'a', 'a', 'a', 'h', 'r']\n"
     ]
    }
   ],
   "source": [
    "st=\"Walchand Institute of Technology,Solapur,Maharashtra\"\n",
    "re=[]\n",
    "for i in range(len(st)):\n",
    "    if i%2==0:\n",
    "        re.append(st[i])\n",
    "print(re)"
   ]
  },
  {
   "cell_type": "code",
   "execution_count": 25,
   "id": "de852044-4cd4-4051-aca6-289716e2c221",
   "metadata": {},
   "outputs": [
    {
     "name": "stdout",
     "output_type": "stream",
     "text": [
      "['a', 'c', 'a', 'd', 'I', 's', 'i', 'u', 'e', 'o', ' ', 'e', 'h', 'o', 'o', 'y', 'S', 'l', 'p', 'r', 'M', 'h', 'r', 's', 't', 'a']\n"
     ]
    }
   ],
   "source": [
    "st=\"Walchand Institute of Technology,Solapur,Maharashtra\"\n",
    "re=[]\n",
    "for i in range(len(st)):\n",
    "    if i%2!=0:\n",
    "        re.append(st[i])\n",
    "print(re)"
   ]
  },
  {
   "cell_type": "code",
   "execution_count": 47,
   "id": "8f94e430-1593-4613-bf7a-78d46f2dc7fe",
   "metadata": {},
   "outputs": [
    {
     "name": "stdout",
     "output_type": "stream",
     "text": [
      "['W', 'a', 'l', 'c', 'h', 'a', 'n', 'd', ' ', 'I', 'n', 's', 't', 'i', 't', 'u', 't', 'e', ' ', 'o', 'f', ' ', 'T', 'e', 'c', 'h', 'n', 'o', 'l', 'o', 'g', 'y', ',', 'S', 'o', 'l', 'a', 'p', 'u', 'r', ',', 'M', 'a', 'h', 'a', 'r', 'a', 's', 'h', 't', 'r', 'a']\n"
     ]
    }
   ],
   "source": [
    "st = \"Walchand Institute of Technology,Solapur,Maharashtra\"\n",
    "re = []\n",
    "wo = \"\"\n",
    "for i in range(len(st)):  \n",
    "    wo += st[i]\n",
    "    re.append(wo)\n",
    "    wo = \"\"\n",
    "if wo:\n",
    "    re.append(wo)\n",
    "print(re)"
   ]
  },
  {
   "cell_type": "code",
   "execution_count": 3,
   "id": "6c32664f-b8c8-4e97-a13e-cafcf2a9196b",
   "metadata": {},
   "outputs": [
    {
     "name": "stdout",
     "output_type": "stream",
     "text": [
      "Vowel Letters: ['a', 'a', 'I', 'i', 'u', 'e', 'o', 'e', 'o', 'o', 'o', 'a', 'u', 'a', 'a', 'a', 'a']\n"
     ]
    }
   ],
   "source": [
    "st = \"Walchand Institute of Technology,Solapur,Maharashtra\"\n",
    "vowels = \"AEIOUaeiou\"\n",
    "vowel_letters = []\n",
    "\n",
    "for i in range(len(st)):  \n",
    "    if st[i] in vowels:\n",
    "        vowel_letters.append(st[i])\n",
    "print(\"Vowel Letters:\", vowel_letters)"
   ]
  },
  {
   "cell_type": "code",
   "execution_count": 9,
   "id": "97d20571-b5c0-4abc-b51a-a0bf788773d2",
   "metadata": {},
   "outputs": [
    {
     "name": "stdout",
     "output_type": "stream",
     "text": [
      "Consonants Letters: ['W', 'l', 'c', 'h', 'n', 'd', ' ', 'n', 's', 't', 't', 't', ' ', 'f', ' ', 'T', 'c', 'h', 'n', 'l', 'g', 'y', ',', 'S', 'l', 'p', 'r', ',', 'M', 'h', 'r', 's', 'h', 't', 'r']\n"
     ]
    }
   ],
   "source": [
    "st = \"Walchand Institute of Technology,Solapur,Maharashtra\"\n",
    "vowels = \"AEIOUaeiou\"\n",
    "vowel_letters = []\n",
    "for i in range(len(st)):  \n",
    "    if st[i] not in vowels:\n",
    "        vowel_letters.append(st[i])\n",
    "print(\"Consonants Letters:\", vowel_letters)"
   ]
  },
  {
   "cell_type": "code",
   "execution_count": 53,
   "id": "f0e85a5d-4fc7-4347-9321-3eee68904493",
   "metadata": {},
   "outputs": [
    {
     "name": "stdout",
     "output_type": "stream",
     "text": [
      "Alphabet Counts: {'w': 1, 'a': 7, 'l': 3, 'c': 2, 'h': 4, 'n': 3, 'd': 1, 'i': 2, 's': 3, 't': 5, 'u': 2, 'e': 2, 'o': 4, 'f': 1, 'g': 1, 'y': 1, 'p': 1, 'r': 3, 'm': 1}\n"
     ]
    }
   ],
   "source": [
    "st = \"Walchand Institute of Technology,Solapur,Maharashtra\"\n",
    "alphabet_count = {}\n",
    "for i in range(len(st)):  \n",
    "    if st[i].isalpha():  \n",
    "        char = st[i].lower() \n",
    "        if char in alphabet_count:\n",
    "            alphabet_count[char] += 1\n",
    "        else:\n",
    "            alphabet_count[char] = 1\n",
    "print(\"Alphabet Counts:\", alphabet_count)"
   ]
  },
  {
   "cell_type": "code",
   "execution_count": null,
   "id": "d8a84b82-ce2d-48d9-b63c-017f976e535c",
   "metadata": {},
   "outputs": [],
   "source": []
  }
 ],
 "metadata": {
  "kernelspec": {
   "display_name": "Python [conda env:base] *",
   "language": "python",
   "name": "conda-base-py"
  },
  "language_info": {
   "codemirror_mode": {
    "name": "ipython",
    "version": 3
   },
   "file_extension": ".py",
   "mimetype": "text/x-python",
   "name": "python",
   "nbconvert_exporter": "python",
   "pygments_lexer": "ipython3",
   "version": "3.12.7"
  }
 },
 "nbformat": 4,
 "nbformat_minor": 5
}
