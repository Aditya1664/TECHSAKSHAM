{
 "cells": [
  {
   "cell_type": "code",
   "execution_count": null,
   "id": "a0779a61-904d-4f94-a6b0-92134ff022c6",
   "metadata": {},
   "outputs": [],
   "source": [
    "while True:\n",
    "    weight = float(input(\"Enter your weight in kg: \"))\n",
    "    height = float(input(\"Enter your height in meters: \"))\n",
    "    if weight > 0 and height > 0:\n",
    "        break\n",
    "    else:\n",
    "        print(\"Invalid input. Weight and height must be greater than 0. Please enter again.\")\n",
    "bmi = weight / (height ** 2)\n",
    "print(f\"Your BMI is: {bmi:.2f}\")\n",
    "if bmi < 18.5:\n",
    "    print(\"You are underweight.\")\n",
    "elif 18.5 <= bmi < 25:\n",
    "    print(\"You have a normal weight.\")\n",
    "elif 25 <= bmi < 30:\n",
    "    print(\"You are slightly overweight.\")\n",
    "elif 30 <= bmi < 35:\n",
    "    print(\"You are obese.\")\n",
    "else:\n",
    "    print(\"You are clinically obese.\")"
   ]
  },
  {
   "cell_type": "code",
   "execution_count": null,
   "id": "79c96073-2052-4016-9468-e994370a9eac",
   "metadata": {},
   "outputs": [],
   "source": [
    "def is_leap_year(year):\n",
    "    if (year % 4 == 0 and year % 100 != 0) or (year % 400 == 0):\n",
    "        return True\n",
    "    else:\n",
    "        return False\n",
    "\n",
    "year = int(input(\"Enter a year: \"))\n",
    "if is_leap_year(year):\n",
    "    print(f\"{year} is a leap year.\")\n",
    "else:\n",
    "    print(f\"{year} is not a leap year.\")\n"
   ]
  },
  {
   "cell_type": "code",
   "execution_count": null,
   "id": "a78b35fc-59de-4360-bf2b-75cf4e82028d",
   "metadata": {},
   "outputs": [],
   "source": [
    "def calculate_pizza_price(size, add_pepperoni, extra_cheese):\n",
    "    prices = {'S': 15, 'M': 20, 'L': 25}\n",
    "    pepperoni_price = {'S': 2, 'M': 3, 'L': 3}\n",
    "    cheese_price = 1\n",
    "    \n",
    "    bill = prices[size]\n",
    "    if add_pepperoni:\n",
    "        bill += pepperoni_price[size]\n",
    "    if extra_cheese:\n",
    "        bill += cheese_price\n",
    "    \n",
    "    return bill\n",
    "\n",
    "size = input(\"What size pizza do you want? S, M, or L: \").upper()\n",
    "add_pepperoni = input(\"Do you want pepperoni? Y or N: \").upper() == 'Y'\n",
    "extra_cheese = input(\"Do you want extra cheese? Y or N: \").upper() == 'Y'\n",
    "\n",
    "final_bill = calculate_pizza_price(size, add_pepperoni, extra_cheese)\n",
    "print(f\"Your final bill is: ${final_bill}\")\n"
   ]
  },
  {
   "cell_type": "code",
   "execution_count": null,
   "id": "cddbdffa-b2ca-4619-8751-3cd358da55cc",
   "metadata": {},
   "outputs": [],
   "source": [
    "prices = {'S': 15, 'M': 20, 'L': 25}\n",
    "pepperoni_price = {'S': 2, 'M': 3, 'L': 3}\n",
    "cheese_price = 1\n",
    "size = input(\"What size pizza do you want? S, M, or L: \").upper()\n",
    "add_pepperoni = input(\"Do you want pepperoni? Y or N: \").upper() == 'Y'\n",
    "extra_cheese = input(\"Do you want extra cheese? Y or N: \").upper() == 'Y'\n",
    "bill = prices[size]\n",
    "if add_pepperoni:\n",
    "    bill += pepperoni_price[size]\n",
    "if extra_cheese:\n",
    "    bill += cheese_price\n",
    "print(f\"Your final bill is: ${bill}\")"
   ]
  },
  {
   "cell_type": "code",
   "execution_count": null,
   "id": "f265a012-2b8d-4a47-a9c8-9f1acb0f530e",
   "metadata": {},
   "outputs": [],
   "source": [
    "size = input(\"Pizza size (S/M/L): \").upper()\n",
    "bill = {'S': 15, 'M': 20, 'L': 25}[size]\n",
    "if input(\"Add pepperoni? (Y/N): \").upper() == 'Y':\n",
    "    bill += 2 if size == 'S' else 3\n",
    "if input(\"Extra cheese? (Y/N): \").upper() == 'Y':\n",
    "    bill += 1\n",
    "print(f\"Final bill: ${bill}\")"
   ]
  },
  {
   "cell_type": "code",
   "execution_count": null,
   "id": "244b3d2c-4c29-47ae-8517-542ea28a4307",
   "metadata": {},
   "outputs": [],
   "source": [
    "def adventure_game():\n",
    "    print(\"Welcome to the Choose Your Own Adventure game!\")\n",
    "\n",
    "    choice1 = input(\"You're at a crossroad. Where do you want to go? Type 'left' or 'right': \").lower()\n",
    "    if choice1 == 'left':\n",
    "        choice2 = input(\"You've come to a lake. There is an island in the middle of the lake. Type 'wait' to wait for a boat. Type 'swim' to swim across: \").lower()\n",
    "        if choice2 == 'wait':\n",
    "            choice3 = input(\"You arrive at the island unharmed. There is a house with 3 doors. One red, one yellow, and one blue. Which color do you choose? \").lower()\n",
    "            if choice3 == 'yellow':\n",
    "                print(\"You found the treasure! You Win!\")\n",
    "            elif choice3 == 'red':\n",
    "                print(\"It's a room full of fire. Game Over.\")\n",
    "            elif choice3 == 'blue':\n",
    "                print(\"You enter a room of beasts. Game Over.\")\n",
    "            else:\n",
    "                print(\"You chose a door that doesn't exist. Game Over.\")\n",
    "        else:\n",
    "            print(\"You get attacked by an angry trout. Game Over.\")\n",
    "    else:\n",
    "        print(\"You fell into a hole. Game Over.\")\n",
    "\n",
    "# Run the game\n",
    "adventure_game()\n"
   ]
  },
  {
   "cell_type": "code",
   "execution_count": null,
   "id": "61c2dc39-2015-4b2a-9daf-bf778254fb6e",
   "metadata": {},
   "outputs": [],
   "source": [
    "name,age,weight,, add workout,view workouts, save data,load data, exit"
   ]
  },
  {
   "cell_type": "code",
   "execution_count": null,
   "id": "f262ad8d-231c-4094-9f4a-b4e311ddc4c2",
   "metadata": {},
   "outputs": [],
   "source": [
    "height = int(input('Enter your Height in cms:'))\n",
    "if height > 120:\n",
    "    print('Can ride')\n",
    "    age = int(input('Enter Your Age:'))\n",
    "    if age < 12:\n",
    "        bill = 5\n",
    "    elif 12 <= age <= 18:\n",
    "        bill = 7\n",
    "    elif 45 <= age <= 55:\n",
    "        bill = 0\n",
    "    else:\n",
    "        bill = 12\n",
    "    \n",
    "    photo = input('Do you want Photo (Y/N): ').upper()\n",
    "    if photo == 'Y':\n",
    "        bill += 3\n",
    "    \n",
    "    print(f'The Total Bill is ${bill}')\n",
    "else:\n",
    "    print(\"Can't ride\")\n"
   ]
  },
  {
   "cell_type": "code",
   "execution_count": null,
   "id": "cf73f37c-4bfa-4403-af7c-f9e4f555fbd3",
   "metadata": {},
   "outputs": [],
   "source": [
    "Class Workout:\n",
    "    def __init__(self,name,age,weight):\n",
    "        self.name=name\n",
    "        self.age=age\n",
    "        self.weight=weight\n",
    "\n",
    "    def "
   ]
  }
 ],
 "metadata": {
  "kernelspec": {
   "display_name": "Python [conda env:base] *",
   "language": "python",
   "name": "conda-base-py"
  },
  "language_info": {
   "codemirror_mode": {
    "name": "ipython",
    "version": 3
   },
   "file_extension": ".py",
   "mimetype": "text/x-python",
   "name": "python",
   "nbconvert_exporter": "python",
   "pygments_lexer": "ipython3",
   "version": "3.12.7"
  }
 },
 "nbformat": 4,
 "nbformat_minor": 5
}
