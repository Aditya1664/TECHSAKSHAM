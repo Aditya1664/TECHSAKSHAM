{
 "cells": [
  {
   "cell_type": "code",
   "execution_count": 3,
   "id": "e9700f74-d84e-4650-b613-a8d97f3ddb56",
   "metadata": {},
   "outputs": [
    {
     "name": "stdout",
     "output_type": "stream",
     "text": [
      "[7 6 4 2]\n"
     ]
    }
   ],
   "source": [
    "import numpy as np\n",
    "a=np.array([7,6,4,2])\n",
    "print(a)"
   ]
  },
  {
   "cell_type": "code",
   "execution_count": 5,
   "id": "9596265a-166a-41e5-b9bd-1b3b89d5938f",
   "metadata": {},
   "outputs": [
    {
     "name": "stdout",
     "output_type": "stream",
     "text": [
      "[[ 7  9  9  2]\n",
      " [16 11  9  6]]\n"
     ]
    }
   ],
   "source": [
    "import numpy as np\n",
    "b=np.array([(7,9,9,2),(16,11,9,6)])\n",
    "print(b)"
   ]
  },
  {
   "cell_type": "code",
   "execution_count": 9,
   "id": "cb2c7ad7-7d82-47ac-b510-1df224d7fbc2",
   "metadata": {},
   "outputs": [
    {
     "name": "stdout",
     "output_type": "stream",
     "text": [
      "[0 1 2 3 4 5 6 7 8 9]\n",
      "[1.  1.8 2.6 3.4 4.2 5. ]\n"
     ]
    }
   ],
   "source": [
    "c=np.arange(10)  #range of values in  array\n",
    "d=np.linspace(1,5,6) #set of values by interval\n",
    "\n",
    "print(c)\n",
    "print(d)"
   ]
  },
  {
   "cell_type": "code",
   "execution_count": 11,
   "id": "ae14b040-95bf-4e03-b153-c1c1bf1631af",
   "metadata": {},
   "outputs": [
    {
     "name": "stdout",
     "output_type": "stream",
     "text": [
      "1\n",
      "4\n",
      "int32\n",
      "16\n",
      "4\n",
      "(2, 4)\n"
     ]
    }
   ],
   "source": [
    "a=np.array([7,6,4,2])\n",
    "b=np.array([(7,9,9,2),(16,11,9,6)])\n",
    "print(a.ndim)  #Dimension of array\n",
    "print(a.itemsize) #Byte size of each array\n",
    "print(a.dtype)  #Datatype of array\n",
    "print(a.size*a.itemsize)  #memory occupied - space occupied by 1 element\n",
    "print(a.size) #number of elements in array\n",
    "print(b.shape)  #shape of array(rows and columns)"
   ]
  },
  {
   "cell_type": "code",
   "execution_count": 13,
   "id": "9404c3d7-8152-43ce-8785-d66307b7d3c8",
   "metadata": {},
   "outputs": [
    {
     "name": "stdout",
     "output_type": "stream",
     "text": [
      "[[ 7  9  9  2]\n",
      " [16 11  9  6]]\n",
      "[[ 7  9]\n",
      " [ 9  2]\n",
      " [16 11]\n",
      " [ 9  6]]\n"
     ]
    }
   ],
   "source": [
    "b=np.array([(7,9,9,2),(16,11,9,6)])\n",
    "print(b)\n",
    "b=b.reshape(4,2)\n",
    "print(b)"
   ]
  },
  {
   "cell_type": "code",
   "execution_count": 15,
   "id": "b42607b2-30df-4db1-9862-9dc3d3d75306",
   "metadata": {},
   "outputs": [
    {
     "name": "stdout",
     "output_type": "stream",
     "text": [
      "9\n",
      "[9 9]\n"
     ]
    }
   ],
   "source": [
    "b=np.array([(7,9,9,2),(16,11,9,6)])\n",
    "print(b[0,2]) #slicing the element from certian row and certain columns\n",
    "print(b[0:,2])  #slicing the element from all rows adn certain column"
   ]
  },
  {
   "cell_type": "code",
   "execution_count": 19,
   "id": "efb4bf47-7750-44e3-9f6e-b482c21b0e6c",
   "metadata": {},
   "outputs": [
    {
     "name": "stdout",
     "output_type": "stream",
     "text": [
      "2\n",
      "96\n",
      "150\n"
     ]
    }
   ],
   "source": [
    "e=np.array([7,9,9,2,16,11,96])\n",
    "print(e.min()) #min element in array\n",
    "print(e.max()) #max element in array\n",
    "print(e.sum()) #sum of array"
   ]
  },
  {
   "cell_type": "code",
   "execution_count": 21,
   "id": "c0aa954f-290e-445d-b24c-e5889b641ea7",
   "metadata": {},
   "outputs": [
    {
     "name": "stdout",
     "output_type": "stream",
     "text": [
      "[23 20 18  8]\n",
      "[27 42]\n",
      "[2.64575131 2.44948974 2.         1.41421356]\n",
      "1.920286436967152\n",
      "[1096.63315843  403.42879349   54.59815003    7.3890561 ]\n",
      "[1.94591015 1.79175947 1.38629436 0.69314718]\n",
      "[0.84509804 0.77815125 0.60205999 0.30103   ]\n"
     ]
    }
   ],
   "source": [
    "a=np.array([7,6,4,2])\n",
    "b=np.array([(7,9,9,2),(16,11,9,6)])\n",
    "print(b.sum(axis=0))#each elemennt of first dim array\n",
    "print(b.sum(axis=1))#sum of all elements is 1st dim\n",
    "print(np.sqrt(a))#squareroot of array elements\n",
    "print(np.std(a))#std deviation of array\n",
    "print(np.exp(a))#exponential of array\n",
    "print(np.log(a))#natural log - ln\n",
    "print(np.log10(a))#log base 10"
   ]
  },
  {
   "cell_type": "code",
   "execution_count": 25,
   "id": "5cda42c4-8f6b-4e52-8b08-bf6a6e65e79a",
   "metadata": {},
   "outputs": [
    {
     "name": "stdout",
     "output_type": "stream",
     "text": [
      "[[ 7  9  9  2]\n",
      " [16 11  9  6]\n",
      " [ 1  2  3  4]\n",
      " [ 5  6  7  8]]\n",
      "[[ 7  9  9  2  1  2  3  4]\n",
      " [16 11  9  6  5  6  7  8]]\n",
      "[ 7  9  9  2 16 11  9  6]\n"
     ]
    }
   ],
   "source": [
    "b=np.array([(7,9,9,2),(16,11,9,6)])\n",
    "f=np.array([(1,2,3,4),(5,6,7,8)])\n",
    "\n",
    "print(np.vstack((b,f))) #Vertical stack\n",
    "print(np.hstack((b,f))) #Horizontal stack\n",
    "print(b.ravel())#Merging as single"
   ]
  },
  {
   "cell_type": "code",
   "execution_count": 29,
   "id": "3cebb9ea-737d-44bf-a038-204191a4e1c5",
   "metadata": {},
   "outputs": [
    {
     "name": "stdout",
     "output_type": "stream",
     "text": [
      "[[[ 1  2  3]\n",
      "  [ 4  5  6]]\n",
      "\n",
      " [[-1 -2 -3]\n",
      "  [-4 -5 -6]]]\n"
     ]
    }
   ],
   "source": [
    "threeDarray=np.array([\n",
    "        [[1,2,3],[4,5,6]],[[-1,-2,-3],[-4,-5,-6]]])\n",
    "print(threeDarray)"
   ]
  },
  {
   "cell_type": "code",
   "execution_count": 31,
   "id": "1ca92d59-ee34-4195-954e-c9c509ef4a9c",
   "metadata": {},
   "outputs": [
    {
     "name": "stdout",
     "output_type": "stream",
     "text": [
      "4\n"
     ]
    }
   ],
   "source": [
    "print(threeDarray[0][1][0])"
   ]
  },
  {
   "cell_type": "code",
   "execution_count": 33,
   "id": "cee50c08-59e2-4b54-a4d2-1dd24c7a92c3",
   "metadata": {},
   "outputs": [
    {
     "name": "stdout",
     "output_type": "stream",
     "text": [
      "int32\n"
     ]
    }
   ],
   "source": [
    "print(threeDarray.dtype)"
   ]
  },
  {
   "cell_type": "code",
   "execution_count": 35,
   "id": "fcacb345-3497-48e2-9b7e-7c78fcd23ac7",
   "metadata": {},
   "outputs": [
    {
     "name": "stdout",
     "output_type": "stream",
     "text": [
      "1\n",
      "2\n",
      "3\n",
      "4\n",
      "5\n",
      "6\n"
     ]
    }
   ],
   "source": [
    "nested_list=[1,2,3],[4,5,6]\n",
    "for i in nested_list:\n",
    "    for j in i:\n",
    "        print(j)"
   ]
  },
  {
   "cell_type": "code",
   "execution_count": 37,
   "id": "b6f70c12-fdcc-4812-8611-8548609a1bab",
   "metadata": {},
   "outputs": [
    {
     "name": "stdout",
     "output_type": "stream",
     "text": [
      "1\n",
      "2\n",
      "3\n",
      "4\n",
      "5\n",
      "6\n",
      "-1\n",
      "-2\n",
      "-3\n",
      "-4\n",
      "-5\n",
      "-6\n"
     ]
    }
   ],
   "source": [
    "threeDarray=np.array([\n",
    "        [[1,2,3],[4,5,6]],[[-1,-2,-3],[-4,-5,-6]]])\n",
    "for i in threeDarray.flatten():\n",
    "    print(i)"
   ]
  },
  {
   "cell_type": "code",
   "execution_count": 43,
   "id": "02548ed8-b26b-4d5f-9a2c-47acf4e0a8ee",
   "metadata": {},
   "outputs": [
    {
     "name": "stdout",
     "output_type": "stream",
     "text": [
      "[ 1  2  3  4  5  6 -1 -2 -3 -4 -5 -6]\n",
      "[ 1  2  3  4  5  6 -1 -2 -3 -4 -5 -6]\n"
     ]
    }
   ],
   "source": [
    "z=threeDarray.flatten()\n",
    "print(z)\n",
    "x=threeDarray.ravel()\n",
    "print(x)"
   ]
  },
  {
   "cell_type": "code",
   "execution_count": 45,
   "id": "2288ddba-0452-433e-9da0-f15d5f9bcdeb",
   "metadata": {},
   "outputs": [
    {
     "name": "stdout",
     "output_type": "stream",
     "text": [
      "[0. 0. 0. 0. 0.]\n"
     ]
    }
   ],
   "source": [
    "zeros=np.zeros(5)\n",
    "print(zeros)"
   ]
  },
  {
   "cell_type": "code",
   "execution_count": 53,
   "id": "bbde8ea0-c863-471e-ac6b-ef4c6aa5d613",
   "metadata": {},
   "outputs": [
    {
     "name": "stdout",
     "output_type": "stream",
     "text": [
      "[1. 1. 1. 1. 1. 1. 1. 1.]\n"
     ]
    }
   ],
   "source": [
    "ones=np.ones(8)\n",
    "print(ones)"
   ]
  },
  {
   "cell_type": "code",
   "execution_count": 55,
   "id": "696b2af0-8276-4292-aa4e-dac513bb368f",
   "metadata": {},
   "outputs": [
    {
     "name": "stdout",
     "output_type": "stream",
     "text": [
      "[1 1 1 1 1 1 1 1]\n"
     ]
    }
   ],
   "source": [
    "ones=ones.astype(int)\n",
    "print(ones)"
   ]
  },
  {
   "cell_type": "code",
   "execution_count": 57,
   "id": "4a146fd1-7bd5-499c-8dcf-3107aa524878",
   "metadata": {},
   "outputs": [
    {
     "name": "stdout",
     "output_type": "stream",
     "text": [
      "[5.6 6.6 7.6 8.6 9.6]\n"
     ]
    }
   ],
   "source": [
    "ranges=np.arange(5.6,9.8)\n",
    "print(ranges)"
   ]
  },
  {
   "cell_type": "code",
   "execution_count": 59,
   "id": "958dde7b-3284-4e72-ae19-035203778cb1",
   "metadata": {},
   "outputs": [
    {
     "name": "stdout",
     "output_type": "stream",
     "text": [
      "[3.         3.33333333 3.66666667 4.         4.33333333 4.66666667\n",
      " 5.         5.33333333 5.66666667 6.        ]\n"
     ]
    }
   ],
   "source": [
    "linspace=np.linspace(3,6,10)\n",
    "print(linspace)"
   ]
  },
  {
   "cell_type": "code",
   "execution_count": 61,
   "id": "bccccbda-3691-4c46-97ad-cf9a98a62241",
   "metadata": {},
   "outputs": [
    {
     "name": "stdout",
     "output_type": "stream",
     "text": [
      "[[76 34 89]\n",
      " [23 34 45]]\n"
     ]
    }
   ],
   "source": [
    "matrix=np.array([[76,34,89],[23,34,45]])\n",
    "print(matrix)"
   ]
  },
  {
   "cell_type": "code",
   "execution_count": 63,
   "id": "0c29b4cc-051d-4e5b-8c8f-2111d2abf378",
   "metadata": {},
   "outputs": [
    {
     "name": "stdout",
     "output_type": "stream",
     "text": [
      "[[78 36 91]\n",
      " [25 36 47]]\n"
     ]
    }
   ],
   "source": [
    "print(matrix+2)"
   ]
  },
  {
   "cell_type": "code",
   "execution_count": 65,
   "id": "67252ce9-6eec-4e4d-8aeb-d8bbb548f569",
   "metadata": {},
   "outputs": [
    {
     "name": "stdout",
     "output_type": "stream",
     "text": [
      "[[5776 1156 7921]\n",
      " [ 529 1156 2025]]\n"
     ]
    }
   ],
   "source": [
    "print(matrix **2)"
   ]
  },
  {
   "cell_type": "code",
   "execution_count": 67,
   "id": "6793d6aa-9b78-47eb-beef-fd42db04a1df",
   "metadata": {},
   "outputs": [
    {
     "name": "stdout",
     "output_type": "stream",
     "text": [
      "[[76 23]\n",
      " [34 34]\n",
      " [89 45]]\n"
     ]
    }
   ],
   "source": [
    "print(matrix.T)"
   ]
  },
  {
   "cell_type": "code",
   "execution_count": 69,
   "id": "65dd0839-3265-44da-8f3a-8c00baaf27ca",
   "metadata": {},
   "outputs": [
    {
     "name": "stdout",
     "output_type": "stream",
     "text": [
      "[23 34 45]\n"
     ]
    }
   ],
   "source": [
    "print(matrix[1,])"
   ]
  },
  {
   "cell_type": "code",
   "execution_count": 77,
   "id": "7424a1a0-9344-42ef-8ba0-56fe47ebe589",
   "metadata": {},
   "outputs": [
    {
     "name": "stdout",
     "output_type": "stream",
     "text": [
      "1-D\n",
      "[5 5 5 5 5 5 5 5 5 5]\n"
     ]
    }
   ],
   "source": [
    "print(\"1-D\")\n",
    "full=np.full(10,5)\n",
    "print(full)"
   ]
  },
  {
   "cell_type": "code",
   "execution_count": 75,
   "id": "2988f61d-814b-4b8e-b1a9-8e891887146f",
   "metadata": {},
   "outputs": [
    {
     "name": "stdout",
     "output_type": "stream",
     "text": [
      "2-D\n",
      "[[10 10]\n",
      " [10 10]]\n"
     ]
    }
   ],
   "source": [
    "print(\"2-D\")\n",
    "full=np.full((2,2),10)\n",
    "print(full)"
   ]
  },
  {
   "cell_type": "code",
   "execution_count": 79,
   "id": "ab4fffd1-6344-4e8f-985c-47a87bf56253",
   "metadata": {},
   "outputs": [
    {
     "name": "stdout",
     "output_type": "stream",
     "text": [
      "3-D\n",
      "[[[5 5 5 5]\n",
      "  [5 5 5 5]\n",
      "  [5 5 5 5]\n",
      "  [5 5 5 5]\n",
      "  [5 5 5 5]]\n",
      "\n",
      " [[5 5 5 5]\n",
      "  [5 5 5 5]\n",
      "  [5 5 5 5]\n",
      "  [5 5 5 5]\n",
      "  [5 5 5 5]]]\n"
     ]
    }
   ],
   "source": [
    "print(\"3-D\")\n",
    "full=np.full((2,5,4),5)\n",
    "print(full)"
   ]
  },
  {
   "cell_type": "code",
   "execution_count": 81,
   "id": "ffca8efd-fdf7-418b-81d3-09b8b09be76a",
   "metadata": {},
   "outputs": [],
   "source": [
    "pythonlist1=[[76,34,89],[23,34,45]]\n",
    "pythonlist2=[[76,34,89],[23,34,45]]"
   ]
  },
  {
   "cell_type": "code",
   "execution_count": 83,
   "id": "6898d9f3-5024-4556-a391-6199d4130564",
   "metadata": {},
   "outputs": [
    {
     "data": {
      "text/plain": [
       "[[76, 34, 89], [23, 34, 45], [76, 34, 89], [23, 34, 45]]"
      ]
     },
     "execution_count": 83,
     "metadata": {},
     "output_type": "execute_result"
    }
   ],
   "source": [
    "pythonlist1+pythonlist2"
   ]
  },
  {
   "cell_type": "code",
   "execution_count": 85,
   "id": "cb763083-b145-47ac-8870-026f22325fe9",
   "metadata": {},
   "outputs": [],
   "source": [
    "matrix1=np.array([[1,2,3],[4,5,6]])\n",
    "matrix2=np.array([[7,8,9],[10,11,12]])\n"
   ]
  },
  {
   "cell_type": "code",
   "execution_count": 87,
   "id": "2f935ab6-f3fa-484b-8cdd-70e5b2f1c724",
   "metadata": {},
   "outputs": [
    {
     "name": "stdout",
     "output_type": "stream",
     "text": [
      "[[ 8 10 12]\n",
      " [14 16 18]]\n"
     ]
    }
   ],
   "source": [
    "print(matrix1+matrix2)"
   ]
  },
  {
   "cell_type": "code",
   "execution_count": 91,
   "id": "179ee669-d356-4339-9fd8-6a87891da105",
   "metadata": {},
   "outputs": [
    {
     "name": "stdout",
     "output_type": "stream",
     "text": [
      "[[ 75  81  87]\n",
      " [174 189 204]\n",
      " [471 513 555]]\n"
     ]
    }
   ],
   "source": [
    "matrix1=np.array([[1,2,3],[4,5,6],[13,14,15]])\n",
    "matrix2=np.array([[7,8,9],[10,11,12],[16,17,18]])\n",
    "print(np.matmul(matrix1,matrix2))"
   ]
  },
  {
   "cell_type": "code",
   "execution_count": 93,
   "id": "c4b18a91-b7d5-4dba-8ec1-5aa40f121a0b",
   "metadata": {},
   "outputs": [],
   "source": [
    "marks=np.array([[87,90,89],[100,89,90],[94,77,90],[100,86,98]])"
   ]
  },
  {
   "cell_type": "code",
   "execution_count": 103,
   "id": "561a1266-441b-4a00-80f5-700f47ded854",
   "metadata": {},
   "outputs": [
    {
     "name": "stdout",
     "output_type": "stream",
     "text": [
      "77\n",
      "100\n",
      "1090\n",
      "90.83333333333333\n",
      "6.242773600109348\n",
      "38.97\n"
     ]
    }
   ],
   "source": [
    "print(marks.min())\n",
    "print(marks.max())\n",
    "print(marks.sum())\n",
    "print(marks.mean())\n",
    "print(marks.std())\n",
    "print(round(marks.var(),2))"
   ]
  },
  {
   "cell_type": "code",
   "execution_count": 101,
   "id": "5264c4ec-3c46-4100-8bfb-d96db059fb03",
   "metadata": {},
   "outputs": [
    {
     "name": "stdout",
     "output_type": "stream",
     "text": [
      "[87 89 77 86]\n",
      "[ 90 100  94 100]\n",
      "[266 279 261 284]\n",
      "[88.66666667 93.         87.         94.66666667]\n",
      "[1.24721913 4.96655481 7.25718035 6.18241233]\n"
     ]
    }
   ],
   "source": [
    "print(marks.min(axis=1))\n",
    "print(marks.max(axis=1))\n",
    "print(marks.sum(axis=1))\n",
    "print(marks.mean(axis=1))\n",
    "print(marks.std(axis=1)) #axis=1 means row"
   ]
  },
  {
   "cell_type": "code",
   "execution_count": 105,
   "id": "c7eaa05e-9ed3-4a8a-9423-2b8c983aeefd",
   "metadata": {},
   "outputs": [
    {
     "name": "stdout",
     "output_type": "stream",
     "text": [
      "[87 77 89]\n",
      "[100  90  98]\n",
      "[381 342 367]\n",
      "[95.25 85.5  91.75]\n",
      "[5.35607132 5.12347538 3.63145976]\n"
     ]
    }
   ],
   "source": [
    "print(marks.min(axis=0))\n",
    "print(marks.max(axis=0))\n",
    "print(marks.sum(axis=0))\n",
    "print(marks.mean(axis=0))\n",
    "print(marks.std(axis=0)) #axis=0 means columnwise"
   ]
  },
  {
   "cell_type": "code",
   "execution_count": 109,
   "id": "95855a64-7c73-48ff-ba5d-fac9e8a42bfb",
   "metadata": {},
   "outputs": [
    {
     "data": {
      "text/plain": [
       "array([ 1,  2,  3,  4,  5,  6, -1, -2, -3, -4, -5, -6,  2,  3])"
      ]
     },
     "execution_count": 109,
     "metadata": {},
     "output_type": "execute_result"
    }
   ],
   "source": [
    "np.append(x,(2,3))"
   ]
  },
  {
   "cell_type": "code",
   "execution_count": 115,
   "id": "f312aa68-da61-436d-a5cf-04db543c1d62",
   "metadata": {},
   "outputs": [
    {
     "name": "stdout",
     "output_type": "stream",
     "text": [
      "[[1 2 3]\n",
      " [4 5 6]\n",
      " [1 2 3]\n",
      " [1 2 3]]\n"
     ]
    }
   ],
   "source": [
    "n=np.array([1,2,3])\n",
    "x=np.append([[1,2,3],[4,5,6]],[[1,2,3],n],axis=0)\n",
    "print(x)"
   ]
  },
  {
   "cell_type": "code",
   "execution_count": 117,
   "id": "801870a9-91fd-4c15-bc01-c280d4361122",
   "metadata": {},
   "outputs": [
    {
     "data": {
      "text/plain": [
       "array([[1, 4, 1, 1],\n",
       "       [2, 5, 2, 2],\n",
       "       [3, 6, 3, 3]])"
      ]
     },
     "execution_count": 117,
     "metadata": {},
     "output_type": "execute_result"
    }
   ],
   "source": [
    "np.transpose(x)"
   ]
  },
  {
   "cell_type": "code",
   "execution_count": 119,
   "id": "c63c8562-32f0-4dff-bfae-af397a3a5d63",
   "metadata": {},
   "outputs": [
    {
     "data": {
      "text/plain": [
       "array([[1, 4, 1, 1],\n",
       "       [2, 5, 2, 2],\n",
       "       [3, 6, 3, 3]])"
      ]
     },
     "execution_count": 119,
     "metadata": {},
     "output_type": "execute_result"
    }
   ],
   "source": [
    "x.T"
   ]
  },
  {
   "cell_type": "code",
   "execution_count": 123,
   "id": "3a2b8b8c-084b-4c17-b4c0-93c03ee4e10a",
   "metadata": {},
   "outputs": [
    {
     "name": "stdout",
     "output_type": "stream",
     "text": [
      "[0 1 2 3 4 5 6]\n"
     ]
    }
   ],
   "source": [
    "arr=np.arange(7)\n",
    "print(arr)"
   ]
  },
  {
   "cell_type": "code",
   "execution_count": 125,
   "id": "2dd03802-ef55-4992-9570-bac605fb5792",
   "metadata": {},
   "outputs": [
    {
     "data": {
      "text/plain": [
       "array([False, False, False, False, False,  True,  True])"
      ]
     },
     "execution_count": 125,
     "metadata": {},
     "output_type": "execute_result"
    }
   ],
   "source": [
    "arr>4"
   ]
  },
  {
   "cell_type": "code",
   "execution_count": 127,
   "id": "f84eaec0-055d-4077-a07a-b97b5a8f2cfc",
   "metadata": {},
   "outputs": [
    {
     "data": {
      "text/plain": [
       "array([5, 6])"
      ]
     },
     "execution_count": 127,
     "metadata": {},
     "output_type": "execute_result"
    }
   ],
   "source": [
    "arr[arr>4]"
   ]
  },
  {
   "cell_type": "code",
   "execution_count": 129,
   "id": "ba3edbf8-3587-4f70-bdde-1ca903e09c78",
   "metadata": {},
   "outputs": [],
   "source": [
    "array=np.arange(12)"
   ]
  },
  {
   "cell_type": "code",
   "execution_count": 139,
   "id": "c0d0db97-ddf7-4095-9149-63a334881c1c",
   "metadata": {},
   "outputs": [],
   "source": [
    "array.shape=(3,4)"
   ]
  },
  {
   "cell_type": "code",
   "execution_count": 135,
   "id": "420d03c2-e57a-480f-882a-27362ab5d7fd",
   "metadata": {},
   "outputs": [
    {
     "data": {
      "text/plain": [
       "array([[[ 0,  1],\n",
       "        [ 2,  3],\n",
       "        [ 4,  5]],\n",
       "\n",
       "       [[ 6,  7],\n",
       "        [ 8,  9],\n",
       "        [10, 11]]])"
      ]
     },
     "execution_count": 135,
     "metadata": {},
     "output_type": "execute_result"
    }
   ],
   "source": [
    "np.arange(12).reshape((2,3,2)"
   ]
  },
  {
   "cell_type": "code",
   "execution_count": 141,
   "id": "1be6eae3-da4f-4f76-8a87-371449d524f0",
   "metadata": {},
   "outputs": [
    {
     "data": {
      "text/plain": [
       "array([0.4182052 , 0.64113021, 0.76136107, 0.89094811, 0.21787654])"
      ]
     },
     "execution_count": 141,
     "metadata": {},
     "output_type": "execute_result"
    }
   ],
   "source": [
    "np.random.rand(5)"
   ]
  },
  {
   "cell_type": "code",
   "execution_count": 143,
   "id": "7a1923c1-b17f-4cd2-bcc1-1f8cff497704",
   "metadata": {},
   "outputs": [
    {
     "data": {
      "text/plain": [
       "array([[12, 14, 12, 19, 12],\n",
       "       [12, 10, 15, 15, 10],\n",
       "       [12, 16, 13, 19, 17],\n",
       "       [17, 14, 17, 10, 14],\n",
       "       [18, 13, 19, 14, 18]])"
      ]
     },
     "execution_count": 143,
     "metadata": {},
     "output_type": "execute_result"
    }
   ],
   "source": [
    "np.random.randint(10,20,(5,5))"
   ]
  },
  {
   "cell_type": "code",
   "execution_count": 145,
   "id": "528fdd4c-59f6-49c1-8e1d-1d1393c6f449",
   "metadata": {},
   "outputs": [
    {
     "data": {
      "text/plain": [
       "array(['o', 'a', 'e', 'e', 'u'], dtype='<U1')"
      ]
     },
     "execution_count": 145,
     "metadata": {},
     "output_type": "execute_result"
    }
   ],
   "source": [
    "letters=list('aeiou')\n",
    "np.random.choice(letters,5)"
   ]
  },
  {
   "cell_type": "code",
   "execution_count": 147,
   "id": "51a79afc-d489-439b-92f5-002e19ebb9ac",
   "metadata": {},
   "outputs": [
    {
     "data": {
      "text/plain": [
       "array(['a', 'u', 'e', 'i', 'o'], dtype='<U1')"
      ]
     },
     "execution_count": 147,
     "metadata": {},
     "output_type": "execute_result"
    }
   ],
   "source": [
    "letters=list('aeiou')\n",
    "np.random.choice(letters,5,replace=False)"
   ]
  },
  {
   "cell_type": "code",
   "execution_count": 151,
   "id": "7ae425ab-7389-4fc7-b321-add986de8f6d",
   "metadata": {},
   "outputs": [
    {
     "data": {
      "text/plain": [
       "array(['e', 'o', 'i', 'o', 'a'], dtype='<U1')"
      ]
     },
     "execution_count": 151,
     "metadata": {},
     "output_type": "execute_result"
    }
   ],
   "source": [
    "letters=list('aeiou')\n",
    "np.random.choice(letters,5,p=[0.4,0.3,0.1,0.1,0.1])"
   ]
  },
  {
   "cell_type": "code",
   "execution_count": 153,
   "id": "1d1b1510-f848-4a63-9286-a0ad82066443",
   "metadata": {},
   "outputs": [],
   "source": [
    "array=np.random.randint(10,20,(5,5))\n",
    "np.save('array_file',array)"
   ]
  },
  {
   "cell_type": "code",
   "execution_count": 155,
   "id": "7022ce63-55c5-4106-b8c0-0c90219d949b",
   "metadata": {},
   "outputs": [
    {
     "name": "stdout",
     "output_type": "stream",
     "text": [
      "[[16 18 15 15 15]\n",
      " [19 13 13 12 13]\n",
      " [15 12 14 19 17]\n",
      " [17 18 18 19 12]\n",
      " [16 17 13 13 18]]\n"
     ]
    }
   ],
   "source": [
    "array2=np.load('array_file.npy')\n",
    "print(array2)"
   ]
  },
  {
   "cell_type": "code",
   "execution_count": null,
   "id": "6fca69ab-ed42-4294-bc1e-2be509f61854",
   "metadata": {},
   "outputs": [],
   "source": []
  }
 ],
 "metadata": {
  "kernelspec": {
   "display_name": "Python [conda env:base] *",
   "language": "python",
   "name": "conda-base-py"
  },
  "language_info": {
   "codemirror_mode": {
    "name": "ipython",
    "version": 3
   },
   "file_extension": ".py",
   "mimetype": "text/x-python",
   "name": "python",
   "nbconvert_exporter": "python",
   "pygments_lexer": "ipython3",
   "version": "3.12.7"
  }
 },
 "nbformat": 4,
 "nbformat_minor": 5
}
