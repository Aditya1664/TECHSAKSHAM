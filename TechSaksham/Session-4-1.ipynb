{
 "cells": [
  {
   "cell_type": "markdown",
   "id": "82cb82d1-50ee-48e5-ac62-798ba9254da9",
   "metadata": {},
   "source": [
    "def add(a,b):\n",
    "    return a+b\n",
    "def sub(a,b):\n",
    "    return a-b\n",
    "def mult(a,b):\n",
    "    return a*b\n",
    "def div(a,b):\n",
    "    return a/b\n",
    "\n",
    "a=int(input(\"Enter a number:\"))\n",
    "b=int(input(\"Enter a number:\"))\n",
    "\n",
    "while (c!=5):\n",
    "    print(\"1.Addition, 2.Subtraction, 3.Multiplication, 4.Division, 5.Exit\")\n",
    "    c=int(input(\"Select operation:\"))\n",
    "    \n",
    "    if c==1:\n",
    "        res=add(a,b)\n",
    "        print(\"After addition:\",add(a,b))\n",
    "        a=res\n",
    "        b=int(input(\"Enter a number:\"))\n",
    "    elif c==2:\n",
    "        res=sub(a,b)\n",
    "        print(\"After Subtraction:\",sub(a,b))\n",
    "        a=res\n",
    "        b=int(input(\"Enter a number:\"))\n",
    "    elif c==3:\n",
    "        res=mult(a,b)\n",
    "        print(\"After Multiplication:\",mult(a,b))\n",
    "        a=res\n",
    "        b=int(input(\"Enter a number:\"))\n",
    "    elif c==4:\n",
    "        res=div(a,b)\n",
    "        print(\"After Division:\",div(a,b))\n",
    "        a=res\n",
    "        b=int(input(\"Enter a number:\"))\n",
    "    else:\n",
    "        print(\"Wrong operation selected.\")"
   ]
  },
  {
   "cell_type": "code",
   "execution_count": null,
   "id": "b84a6bdc-50ff-4c76-ac9a-d2ce4dc454bf",
   "metadata": {},
   "outputs": [],
   "source": [
    "num1 operator num2 should store the result in some var and then it should do result as num1 and then using some operator it should take num2 again and then do the operation with the result."
   ]
  },
  {
   "cell_type": "code",
   "execution_count": 3,
   "id": "5042fced-c689-4035-ac0b-94c2994e9b80",
   "metadata": {},
   "outputs": [
    {
     "name": "stdout",
     "output_type": "stream",
     "text": [
      "Ypu are going in the wrong direction.\n"
     ]
    }
   ],
   "source": [
    "import random\n",
    "\n",
    "x=random.randint(1,6)\n",
    "if x%2==0:\n",
    "    print(\"Ypu are going in the right direction.\")\n",
    "else:\n",
    "    print(\"Ypu are going in the wrong direction.\")"
   ]
  },
  {
   "cell_type": "code",
   "execution_count": 11,
   "id": "27c706ef-acea-4e43-8e74-8bfad73f9e70",
   "metadata": {},
   "outputs": [
    {
     "name": "stdout",
     "output_type": "stream",
     "text": [
      "Dexter has to pay the bill.\n"
     ]
    }
   ],
   "source": [
    "name=['Dexter','Phenix','AlphaTrion','Vinu','Aadi','Shaad','Darshan']\n",
    "z=random.choice(name)\n",
    "print(f\"{z} has to pay the bill.\")"
   ]
  },
  {
   "cell_type": "code",
   "execution_count": null,
   "id": "3f34afbf-f062-4df5-aaf4-00ccba949777",
   "metadata": {},
   "outputs": [],
   "source": [
    "import random\n",
    "chance=10\n",
    "r=random.randint(1,500)\n",
    "while(chance!=0):\n",
    "    a=int(input(\"Enter the number:\"))\n",
    "    if r==a:\n",
    "        print(\"Correct number.\")\n",
    "        break\n",
    "    elif r>a:\n",
    "        print(\"Number is Higher.\")\n",
    "    else:\n",
    "        print(\"Number is Lower.\")\n",
    "    chance-=1\n",
    "print(f\"The correct number is:{r}\")"
   ]
  },
  {
   "cell_type": "code",
   "execution_count": null,
   "id": "de8f9ae3-9399-485b-84d8-3537aab95e95",
   "metadata": {},
   "outputs": [],
   "source": []
  }
 ],
 "metadata": {
  "kernelspec": {
   "display_name": "Python [conda env:base] *",
   "language": "python",
   "name": "conda-base-py"
  },
  "language_info": {
   "codemirror_mode": {
    "name": "ipython",
    "version": 3
   },
   "file_extension": ".py",
   "mimetype": "text/x-python",
   "name": "python",
   "nbconvert_exporter": "python",
   "pygments_lexer": "ipython3",
   "version": "3.12.7"
  }
 },
 "nbformat": 4,
 "nbformat_minor": 5
}
