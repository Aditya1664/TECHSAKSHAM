{
 "cells": [
  {
   "cell_type": "code",
   "execution_count": 1,
   "id": "58dc3bc8-df56-40da-88cc-780076df400f",
   "metadata": {},
   "outputs": [
    {
     "name": "stdout",
     "output_type": "stream",
     "text": [
      "12\n"
     ]
    }
   ],
   "source": [
    "def adi(sen):\n",
    "    count=0\n",
    "    for i in sen:\n",
    "        count+=1\n",
    "    return count\n",
    "sen=\"Aditya Doshi\"\n",
    "x=adi(sen)\n",
    "print(x)"
   ]
  },
  {
   "cell_type": "code",
   "execution_count": 13,
   "id": "2610ce10-3fa4-4b0d-b76f-a27f2b82b7cf",
   "metadata": {},
   "outputs": [
    {
     "name": "stdout",
     "output_type": "stream",
     "text": [
      "ADITYA DOSHI\n"
     ]
    }
   ],
   "source": [
    "def up(sen):\n",
    "    z=\"\"\n",
    "    for i in sen:\n",
    "        if i.islower():\n",
    "            z+=i.upper()\n",
    "        else:\n",
    "            z+=i\n",
    "    return z\n",
    "sen=\"Aditya Doshi\"\n",
    "y=up(sen)\n",
    "print(y)"
   ]
  },
  {
   "cell_type": "code",
   "execution_count": 17,
   "id": "5a2acef8-672e-451a-ba61-d3c5f9bb51d7",
   "metadata": {},
   "outputs": [
    {
     "name": "stdout",
     "output_type": "stream",
     "text": [
      "aditya doshi\n"
     ]
    }
   ],
   "source": [
    "def low(sen):\n",
    "    z=\"\"\n",
    "    for i in sen:\n",
    "        if i.isupper():\n",
    "            z+=i.lower()\n",
    "        else:\n",
    "            z+=i\n",
    "    return z\n",
    "sen=\"Aditya Doshi\"\n",
    "z=low(sen)\n",
    "print(z)"
   ]
  },
  {
   "cell_type": "code",
   "execution_count": 21,
   "id": "533d8393-a317-4128-b2eb-c224195f2e94",
   "metadata": {},
   "outputs": [
    {
     "name": "stdout",
     "output_type": "stream",
     "text": [
      "ADITYA DOSHI\n"
     ]
    }
   ],
   "source": [
    "def up(sen):\n",
    "    z = \"\"\n",
    "    for i in sen:\n",
    "        ascii_val = ord(i)\n",
    "        if 97 <= ascii_val <= 122:\n",
    "            z += chr(ascii_val - 32)\n",
    "        else:\n",
    "            z += i\n",
    "    return z\n",
    "sen = \"Aditya Doshi\"\n",
    "y = up(sen)\n",
    "print(y)"
   ]
  },
  {
   "cell_type": "code",
   "execution_count": 23,
   "id": "fede8592-4489-48b3-b724-70e0074418d7",
   "metadata": {},
   "outputs": [
    {
     "name": "stdout",
     "output_type": "stream",
     "text": [
      "aditya doshi\n"
     ]
    }
   ],
   "source": [
    "def low(sen):\n",
    "    z = \"\"\n",
    "    for i in sen:\n",
    "        ascii_val = ord(i)\n",
    "        if 65 <= ascii_val <= 90:\n",
    "            z += chr(ascii_val + 32)\n",
    "        else:\n",
    "            z += i\n",
    "    return z\n",
    "sen = \"Aditya Doshi\"\n",
    "y = low(sen)\n",
    "print(y)"
   ]
  },
  {
   "cell_type": "code",
   "execution_count": 25,
   "id": "11fa13a4-28b2-4f5c-8f47-ef44566e8a93",
   "metadata": {},
   "outputs": [
    {
     "name": "stdout",
     "output_type": "stream",
     "text": [
      "5 is a prime number.\n"
     ]
    }
   ],
   "source": [
    "num = 5\n",
    "x = 0\n",
    "i = 2\n",
    "while i < num // 2:\n",
    "    if num % i == 0:\n",
    "        x = 1\n",
    "        print(f\"{num} is not a prime number.\")\n",
    "        break\n",
    "    i += 1\n",
    "else:\n",
    "    print(f\"{num} is a prime number.\")\n"
   ]
  },
  {
   "cell_type": "code",
   "execution_count": 29,
   "id": "e643a309-57f1-4fd2-b3f2-24e4f5f1a54e",
   "metadata": {},
   "outputs": [
    {
     "name": "stdout",
     "output_type": "stream",
     "text": [
      "1634 is an Armstrong Number.\n"
     ]
    }
   ],
   "source": [
    "##number=1634\n",
    "##le=len(str(number))\n",
    "##sum=0\n",
    "##for i in str(number):\n",
    "##    sum+=int(i) ** le\n",
    "\n",
    "##if number==sum:\n",
    "##    print(f\"{number} is an Armstrong Number.\")\n",
    "##else:\n",
    "##    print(f\"{number} is not an Armstrong Number.\")\n",
    "\n",
    "\n",
    "number = 1634\n",
    "le = len(str(number))\n",
    "sum = 0\n",
    "temp = number\n",
    "while temp > 0:\n",
    "    sum += (temp % 10) ** le\n",
    "    temp //= 10\n",
    "else:\n",
    "    if number == sum:\n",
    "        print(f\"{number} is an Armstrong Number.\")\n",
    "    else:\n",
    "        print(f\"{number} is not an Armstrong Number.\")\n"
   ]
  },
  {
   "cell_type": "code",
   "execution_count": 31,
   "id": "5963a0ef-d6c6-4145-9c55-4d73d698ca81",
   "metadata": {},
   "outputs": [
    {
     "name": "stdout",
     "output_type": "stream",
     "text": [
      "  * \n",
      " * * \n",
      "* * * \n"
     ]
    }
   ],
   "source": [
    "##r=3\n",
    "##for i in range(1,r+1):\n",
    "##    sp=\" \"*(r-i)\n",
    "##    s=\"* \"*i\n",
    "##    print(sp+s)\n",
    "\n",
    "r = 3\n",
    "i = 1\n",
    "while i <= r:\n",
    "    sp = \" \" * (r - i)\n",
    "    s = \"* \" * i\n",
    "    print(sp + s)\n",
    "    i += 1\n"
   ]
  },
  {
   "cell_type": "code",
   "execution_count": 1,
   "id": "0ab17875-f084-47d1-bafb-f1fa449c0632",
   "metadata": {},
   "outputs": [
    {
     "name": "stdout",
     "output_type": "stream",
     "text": [
      "  1 \n",
      " 2 3 \n",
      "4 5 6 \n"
     ]
    }
   ],
   "source": [
    "##r=3\n",
    "##n=1\n",
    "##for i in range(1,r+1):\n",
    "##    sp=\" \"*(r-i)\n",
    "##    print(sp,end=\"\")\n",
    "##    for j in range(i):\n",
    "##        print(n,end=\" \")\n",
    "##        n+=1\n",
    "##    print()\n",
    "\n",
    "\n",
    "r = 3\n",
    "n = 1\n",
    "i = 1\n",
    "while i <= r:\n",
    "    sp = \" \" * (r - i)\n",
    "    print(sp, end=\"\")\n",
    "    j = 0\n",
    "    while j < i:\n",
    "        print(n, end=\" \")\n",
    "        n += 1\n",
    "        j += 1 \n",
    "    print()\n",
    "    i += 1"
   ]
  },
  {
   "cell_type": "code",
   "execution_count": 5,
   "id": "af2f7af2-5b82-4502-afe6-d7c6ca309bce",
   "metadata": {},
   "outputs": [
    {
     "name": "stdout",
     "output_type": "stream",
     "text": [
      "arthsarahaM,rupaloS,ygolonhceT fo etutitsnI dnahclaW\n"
     ]
    }
   ],
   "source": [
    "##st=\"Walchand Institute of Technology,Solapur,Maharashtra\"\n",
    "##re=\"\"\n",
    "##for i in range(len(st)-1,-1,-1):\n",
    "##    re+=st[i]\n",
    "##print(re)\n",
    "\n",
    "st = \"Walchand Institute of Technology,Solapur,Maharashtra\"\n",
    "re = \"\"\n",
    "i = len(st) - 1\n",
    "while i >= 0:\n",
    "    re += st[i]\n",
    "    i -= 1\n",
    "else:\n",
    "    print(re)"
   ]
  },
  {
   "cell_type": "code",
   "execution_count": 9,
   "id": "98be2dd0-c18f-4d3d-bf59-bdef8048d874",
   "metadata": {},
   "outputs": [
    {
     "name": "stdout",
     "output_type": "stream",
     "text": [
      "['W', 'l', 'h', 'n', ' ', 'n', 't', 't', 't', ' ', 'f', 'T', 'c', 'n', 'l', 'g', ',', 'o', 'a', 'u', ',', 'a', 'a', 'a', 'h', 'r']\n"
     ]
    }
   ],
   "source": [
    "st=\"Walchand Institute of Technology,Solapur,Maharashtra\"\n",
    "re=[]\n",
    "i = 0\n",
    "while i<len(st):\n",
    "    if i%2==0:\n",
    "        re.append(st[i])\n",
    "    i+=1\n",
    "print(re)"
   ]
  },
  {
   "cell_type": "code",
   "execution_count": 11,
   "id": "e35d14e1-3598-41af-811d-3cd98f8e6422",
   "metadata": {},
   "outputs": [
    {
     "name": "stdout",
     "output_type": "stream",
     "text": [
      "['a', 'c', 'a', 'd', 'I', 's', 'i', 'u', 'e', 'o', ' ', 'e', 'h', 'o', 'o', 'y', 'S', 'l', 'p', 'r', 'M', 'h', 'r', 's', 't', 'a']\n"
     ]
    }
   ],
   "source": [
    "st=\"Walchand Institute of Technology,Solapur,Maharashtra\"\n",
    "re=[]\n",
    "i = 0\n",
    "while i<len(st):\n",
    "    if i%2!=0:\n",
    "        re.append(st[i])\n",
    "    i+=1\n",
    "print(re)"
   ]
  },
  {
   "cell_type": "code",
   "execution_count": 13,
   "id": "09da83e7-a867-47fb-b2f9-192013200db9",
   "metadata": {},
   "outputs": [
    {
     "name": "stdout",
     "output_type": "stream",
     "text": [
      "['W', 'a', 'l', 'c', 'h', 'a', 'n', 'd', ' ', 'I', 'n', 's', 't', 'i', 't', 'u', 't', 'e', ' ', 'o', 'f', ' ', 'T', 'e', 'c', 'h', 'n', 'o', 'l', 'o', 'g', 'y', ',', 'S', 'o', 'l', 'a', 'p', 'u', 'r', ',', 'M', 'a', 'h', 'a', 'r', 'a', 's', 'h', 't', 'r', 'a']\n"
     ]
    }
   ],
   "source": [
    "##st = \"Walchand Institute of Technology,Solapur,Maharashtra\"\n",
    "##re = []\n",
    "##wo = \"\"\n",
    "##for i in range(len(st)):  \n",
    "##    wo += st[i]\n",
    "##    re.append(wo)\n",
    "##    wo = \"\"\n",
    "##if wo:\n",
    "##    re.append(wo)\n",
    "##print(re)\n",
    "\n",
    "st = \"Walchand Institute of Technology,Solapur,Maharashtra\"\n",
    "re = []\n",
    "wo = \"\"\n",
    "i = 0\n",
    "while i < len(st):  \n",
    "    wo += st[i]\n",
    "    re.append(wo)\n",
    "    wo = \"\"\n",
    "    i += 1\n",
    "else:\n",
    "    if wo:\n",
    "        re.append(wo)\n",
    "print(re)"
   ]
  },
  {
   "cell_type": "code",
   "execution_count": 1,
   "id": "1db859ba-74ba-4367-963c-ca94200ffdcf",
   "metadata": {},
   "outputs": [
    {
     "name": "stdout",
     "output_type": "stream",
     "text": [
      "Vowel Letters: ['a', 'a', 'I', 'i', 'u', 'e', 'o', 'e', 'o', 'o', 'o', 'a', 'u', 'a', 'a', 'a', 'a']\n"
     ]
    }
   ],
   "source": [
    "st = \"Walchand Institute of Technology,Solapur,Maharashtra\"\n",
    "vowels = \"AEIOUaeiou\"\n",
    "vowel_letters = []\n",
    "i=0\n",
    "while i<len(st) : \n",
    "    if st[i] in vowels:\n",
    "        vowel_letters.append(st[i])\n",
    "    i+=1\n",
    "else:\n",
    "    print(\"Vowel Letters:\", vowel_letters)"
   ]
  },
  {
   "cell_type": "code",
   "execution_count": 5,
   "id": "10a3ccb8-d933-4624-85bd-93ff2af3d409",
   "metadata": {},
   "outputs": [
    {
     "name": "stdout",
     "output_type": "stream",
     "text": [
      "Consonants Letters: ['W', 'l', 'c', 'h', 'n', 'd', ' ', 'n', 's', 't', 't', 't', ' ', 'f', ' ', 'T', 'c', 'h', 'n', 'l', 'g', 'y', ',', 'S', 'l', 'p', 'r', ',', 'M', 'h', 'r', 's', 'h', 't', 'r']\n"
     ]
    }
   ],
   "source": [
    "st = \"Walchand Institute of Technology,Solapur,Maharashtra\"\n",
    "vowels = \"AEIOUaeiou\"\n",
    "vowel_letters = []\n",
    "i=0\n",
    "while i<len(st) : \n",
    "    if st[i] not in vowels:\n",
    "        vowel_letters.append(st[i])\n",
    "    i+=1\n",
    "else:\n",
    "    print(\"Consonants Letters:\", vowel_letters)"
   ]
  },
  {
   "cell_type": "code",
   "execution_count": 11,
   "id": "c0343726-7ff8-417c-8c46-e877e15c9e60",
   "metadata": {},
   "outputs": [
    {
     "name": "stdout",
     "output_type": "stream",
     "text": [
      "Alphabet Counts: {'w': 1, 'a': 7, 'l': 3, 'c': 2, 'h': 4, 'n': 3, 'd': 1, 'i': 2, 's': 3, 't': 5, 'u': 2, 'e': 2, 'o': 4, 'f': 1, 'g': 1, 'y': 1, 'p': 1, 'r': 3, 'm': 1}\n"
     ]
    }
   ],
   "source": [
    "##st = \"Walchand Institute of Technology,Solapur,Maharashtra\"\n",
    "##alphabet_count = {}\n",
    "##for i in range(len(st)):  \n",
    "##    if st[i].isalpha():  \n",
    "##        char = st[i].lower() \n",
    "##        if char in alphabet_count:\n",
    "##            alphabet_count[char] += 1\n",
    "##        else:\n",
    "##            alphabet_count[char] = 1\n",
    "##print(\"Alphabet Counts:\", alphabet_count)\n",
    "\n",
    "st = \"Walchand Institute of Technology,Solapur,Maharashtra\"\n",
    "alphabet_count = {}\n",
    "i=0\n",
    "while i<len(st): \n",
    "    if st[i].isalpha():  \n",
    "        char = st[i].lower() \n",
    "        if char in alphabet_count:\n",
    "            alphabet_count[char] += 1\n",
    "        else:\n",
    "            alphabet_count[char] = 1\n",
    "    i+=1\n",
    "else:\n",
    "    print(\"Alphabet Counts:\", alphabet_count)"
   ]
  },
  {
   "cell_type": "code",
   "execution_count": 1,
   "id": "61f335d5-6e35-4444-b189-d74584bdbaba",
   "metadata": {},
   "outputs": [
    {
     "name": "stdout",
     "output_type": "stream",
     "text": [
      "0 1 1 2 3 5 8 13 21 34 \n"
     ]
    }
   ],
   "source": [
    "n = 10\n",
    "a, b = 0, 1\n",
    "count = 0\n",
    "while count < n:\n",
    "    print(a, end=\" \")\n",
    "    a, b = b, a + b\n",
    "    count += 1\n",
    "else:\n",
    "    print()"
   ]
  },
  {
   "cell_type": "code",
   "execution_count": 7,
   "id": "e1cf6aae-ebe5-439b-8c7e-00286cbc4c11",
   "metadata": {},
   "outputs": [
    {
     "name": "stdout",
     "output_type": "stream",
     "text": [
      "jo karne bola hai wo kiya hai.\n"
     ]
    }
   ],
   "source": [
    "print(\"jo karne bola hai wo kiya hai.\")"
   ]
  },
  {
   "cell_type": "code",
   "execution_count": 9,
   "id": "e60f2ec0-8be0-4b8c-a554-4a2c55fbedfb",
   "metadata": {},
   "outputs": [
    {
     "name": "stdout",
     "output_type": "stream",
     "text": [
      "5 is a prime number.\n"
     ]
    }
   ],
   "source": [
    "def prime(num):\n",
    "    num = 5\n",
    "    x = 0\n",
    "    i = 2\n",
    "    while i < num // 2:\n",
    "        if num % i == 0:\n",
    "            x = 1\n",
    "            print(f\"{num} is not a prime number.\")\n",
    "            break\n",
    "        i += 1\n",
    "    else:\n",
    "        print(f\"{num} is a prime number.\")\n",
    "\n",
    "num = 5\n",
    "prime(num)"
   ]
  },
  {
   "cell_type": "code",
   "execution_count": 13,
   "id": "cb803883-59e1-499d-a84d-08ab65a8677c",
   "metadata": {},
   "outputs": [
    {
     "name": "stdout",
     "output_type": "stream",
     "text": [
      "1634 is an Armstrong Number.\n"
     ]
    }
   ],
   "source": [
    "def arm(number):\n",
    "    le = len(str(number))\n",
    "    sum = 0\n",
    "    temp = number\n",
    "    while temp > 0:\n",
    "        sum += (temp % 10) ** le\n",
    "        temp //= 10\n",
    "    else:\n",
    "        if number == sum:\n",
    "            print(f\"{number} is an Armstrong Number.\")\n",
    "        else:\n",
    "            print(f\"{number} is not an Armstrong Number.\")\n",
    "\n",
    "number = 1634\n",
    "arm(number)"
   ]
  },
  {
   "cell_type": "code",
   "execution_count": 15,
   "id": "061c92fa-9154-4f3e-a18b-929af6ee8758",
   "metadata": {},
   "outputs": [
    {
     "name": "stdout",
     "output_type": "stream",
     "text": [
      "  * \n",
      " * * \n",
      "* * * \n"
     ]
    }
   ],
   "source": [
    "def pat():\n",
    "    r = 3\n",
    "    i = 1\n",
    "    while i <= r:\n",
    "        sp = \" \" * (r - i)\n",
    "        s = \"* \" * i\n",
    "        print(sp + s)\n",
    "        i += 1\n",
    "pat()"
   ]
  },
  {
   "cell_type": "code",
   "execution_count": 17,
   "id": "4c4c581d-f8d8-4872-9b01-17f0766c9312",
   "metadata": {},
   "outputs": [
    {
     "name": "stdout",
     "output_type": "stream",
     "text": [
      "  1 \n",
      " 2 3 \n",
      "4 5 6 \n"
     ]
    }
   ],
   "source": [
    "def nu():\n",
    "    r = 3\n",
    "    n = 1\n",
    "    i = 1\n",
    "    while i <= r:\n",
    "        sp = \" \" * (r - i)\n",
    "        print(sp, end=\"\")\n",
    "        j = 0\n",
    "        while j < i:\n",
    "            print(n, end=\" \")\n",
    "            n += 1\n",
    "            j += 1 \n",
    "        print()\n",
    "        i += 1\n",
    "\n",
    "nu()"
   ]
  },
  {
   "cell_type": "code",
   "execution_count": 19,
   "id": "5571c02a-0d24-41c8-9af9-9f3160d97442",
   "metadata": {},
   "outputs": [
    {
     "name": "stdout",
     "output_type": "stream",
     "text": [
      "arthsarahaM,rupaloS,ygolonhceT fo etutitsnI dnahclaW\n"
     ]
    }
   ],
   "source": [
    "def re(st):\n",
    "    re = \"\"\n",
    "    i = len(st) - 1\n",
    "    while i >= 0:\n",
    "        re += st[i]\n",
    "        i -= 1\n",
    "    else:\n",
    "        print(re)\n",
    "\n",
    "st = \"Walchand Institute of Technology,Solapur,Maharashtra\"\n",
    "re(st)"
   ]
  },
  {
   "cell_type": "code",
   "execution_count": 21,
   "id": "fcb034c7-a05c-4772-8e98-19553c01030b",
   "metadata": {},
   "outputs": [
    {
     "name": "stdout",
     "output_type": "stream",
     "text": [
      "['W', 'l', 'h', 'n', ' ', 'n', 't', 't', 't', ' ', 'f', 'T', 'c', 'n', 'l', 'g', ',', 'o', 'a', 'u', ',', 'a', 'a', 'a', 'h', 'r']\n"
     ]
    }
   ],
   "source": [
    "def ev(st):\n",
    "    re=[]\n",
    "    i = 0\n",
    "    while i<len(st):\n",
    "        if i%2==0:\n",
    "            re.append(st[i])\n",
    "        i+=1\n",
    "    print(re)\n",
    "\n",
    "st=\"Walchand Institute of Technology,Solapur,Maharashtra\"\n",
    "ev(st)"
   ]
  },
  {
   "cell_type": "code",
   "execution_count": 25,
   "id": "3a6aa106-3205-4368-9683-415b0374798e",
   "metadata": {},
   "outputs": [
    {
     "name": "stdout",
     "output_type": "stream",
     "text": [
      "['a', 'c', 'a', 'd', 'I', 's', 'i', 'u', 'e', 'o', ' ', 'e', 'h', 'o', 'o', 'y', 'S', 'l', 'p', 'r', 'M', 'h', 'r', 's', 't', 'a']\n"
     ]
    }
   ],
   "source": [
    "def od(st):\n",
    "    re=[]\n",
    "    i = 0\n",
    "    while i<len(st):\n",
    "        if i%2!=0:\n",
    "            re.append(st[i])\n",
    "        i+=1\n",
    "    print(re)\n",
    "\n",
    "st=\"Walchand Institute of Technology,Solapur,Maharashtra\"\n",
    "od(st)"
   ]
  },
  {
   "cell_type": "code",
   "execution_count": 27,
   "id": "120bcb95-45cf-43a3-acb3-bddbe0b0e447",
   "metadata": {},
   "outputs": [
    {
     "name": "stdout",
     "output_type": "stream",
     "text": [
      "['W', 'a', 'l', 'c', 'h', 'a', 'n', 'd', ' ', 'I', 'n', 's', 't', 'i', 't', 'u', 't', 'e', ' ', 'o', 'f', ' ', 'T', 'e', 'c', 'h', 'n', 'o', 'l', 'o', 'g', 'y', ',', 'S', 'o', 'l', 'a', 'p', 'u', 'r', ',', 'M', 'a', 'h', 'a', 'r', 'a', 's', 'h', 't', 'r', 'a']\n"
     ]
    }
   ],
   "source": [
    "def sp(st):\n",
    "    re = []\n",
    "    wo = \"\"\n",
    "    i = 0\n",
    "    while i < len(st):  \n",
    "        wo += st[i]\n",
    "        re.append(wo)\n",
    "        wo = \"\"\n",
    "        i += 1\n",
    "    else:\n",
    "        if wo:\n",
    "            re.append(wo)\n",
    "    print(re)\n",
    "\n",
    "st = \"Walchand Institute of Technology,Solapur,Maharashtra\"\n",
    "sp(st)"
   ]
  },
  {
   "cell_type": "code",
   "execution_count": 29,
   "id": "1dc70ff5-f38f-4bdf-a517-9e6ae5981ef3",
   "metadata": {},
   "outputs": [
    {
     "name": "stdout",
     "output_type": "stream",
     "text": [
      "Vowel Letters: ['a', 'a', 'I', 'i', 'u', 'e', 'o', 'e', 'o', 'o', 'o', 'a', 'u', 'a', 'a', 'a', 'a']\n"
     ]
    }
   ],
   "source": [
    "def vo(st):\n",
    "    vowels = \"AEIOUaeiou\"\n",
    "    vowel_letters = []\n",
    "    i=0\n",
    "    while i<len(st) : \n",
    "        if st[i] in vowels:\n",
    "            vowel_letters.append(st[i])\n",
    "        i+=1\n",
    "    else:\n",
    "        print(\"Vowel Letters:\", vowel_letters)\n",
    "\n",
    "st = \"Walchand Institute of Technology,Solapur,Maharashtra\"\n",
    "vo(st)"
   ]
  },
  {
   "cell_type": "code",
   "execution_count": 31,
   "id": "ffb43118-5b3b-402f-8257-59af614dba37",
   "metadata": {},
   "outputs": [
    {
     "name": "stdout",
     "output_type": "stream",
     "text": [
      "Vowel Letters: ['W', 'l', 'c', 'h', 'n', 'd', ' ', 'n', 's', 't', 't', 't', ' ', 'f', ' ', 'T', 'c', 'h', 'n', 'l', 'g', 'y', ',', 'S', 'l', 'p', 'r', ',', 'M', 'h', 'r', 's', 'h', 't', 'r']\n"
     ]
    }
   ],
   "source": [
    "def co(st):\n",
    "    vowels = \"AEIOUaeiou\"\n",
    "    vowel_letters = []\n",
    "    i=0\n",
    "    while i<len(st) : \n",
    "        if st[i] not in vowels:\n",
    "            vowel_letters.append(st[i])\n",
    "        i+=1\n",
    "    else:\n",
    "        print(\"Vowel Letters:\", vowel_letters)\n",
    "\n",
    "st = \"Walchand Institute of Technology,Solapur,Maharashtra\"\n",
    "co(st)"
   ]
  },
  {
   "cell_type": "code",
   "execution_count": 33,
   "id": "840ea185-4b42-4617-9309-9c1ff95ee62f",
   "metadata": {},
   "outputs": [
    {
     "name": "stdout",
     "output_type": "stream",
     "text": [
      "Alphabet Counts: {'w': 1, 'a': 7, 'l': 3, 'c': 2, 'h': 4, 'n': 3, 'd': 1, 'i': 2, 's': 3, 't': 5, 'u': 2, 'e': 2, 'o': 4, 'f': 1, 'g': 1, 'y': 1, 'p': 1, 'r': 3, 'm': 1}\n"
     ]
    }
   ],
   "source": [
    "def cou(st):\n",
    "    alphabet_count = {}\n",
    "    i=0\n",
    "    while i<len(st): \n",
    "        if st[i].isalpha():  \n",
    "            char = st[i].lower() \n",
    "            if char in alphabet_count:\n",
    "                alphabet_count[char] += 1\n",
    "            else:\n",
    "                alphabet_count[char] = 1\n",
    "        i+=1\n",
    "    else:\n",
    "        print(\"Alphabet Counts:\", alphabet_count)\n",
    "\n",
    "st = \"Walchand Institute of Technology,Solapur,Maharashtra\"\n",
    "cou(st)"
   ]
  },
  {
   "cell_type": "code",
   "execution_count": 37,
   "id": "ac301a53-a591-48aa-9396-0eef45e8230e",
   "metadata": {},
   "outputs": [
    {
     "name": "stdout",
     "output_type": "stream",
     "text": [
      "0 1 1 2 3 5 8 13 21 34 \n"
     ]
    }
   ],
   "source": [
    "def fib(n=10,a=0,b=1):\n",
    "    count = 0\n",
    "    while count < n:\n",
    "        print(a, end=\" \")\n",
    "        a, b = b, a + b\n",
    "        count += 1\n",
    "    else:\n",
    "        print()\n",
    "\n",
    "fib()"
   ]
  },
  {
   "cell_type": "code",
   "execution_count": null,
   "id": "9f47cbab-af00-4e74-a62e-5d646876545f",
   "metadata": {},
   "outputs": [],
   "source": []
  }
 ],
 "metadata": {
  "kernelspec": {
   "display_name": "Python [conda env:base] *",
   "language": "python",
   "name": "conda-base-py"
  },
  "language_info": {
   "codemirror_mode": {
    "name": "ipython",
    "version": 3
   },
   "file_extension": ".py",
   "mimetype": "text/x-python",
   "name": "python",
   "nbconvert_exporter": "python",
   "pygments_lexer": "ipython3",
   "version": "3.12.7"
  }
 },
 "nbformat": 4,
 "nbformat_minor": 5
}
