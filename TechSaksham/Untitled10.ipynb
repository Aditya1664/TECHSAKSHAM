{
 "cells": [
  {
   "cell_type": "code",
   "execution_count": 31,
   "id": "45b6590a-5e08-44bc-aa27-449555a0f375",
   "metadata": {},
   "outputs": [
    {
     "name": "stdout",
     "output_type": "stream",
     "text": [
      "900000.0\n"
     ]
    }
   ],
   "source": [
    "sal=4500000\n",
    "saving=150000\n",
    "if saving>200000:\n",
    "    rem=salary-200000\n",
    "else:\n",
    "    rem=salary-saving\n",
    "tax=0\n",
    "if rem>=1000000:\n",
    "    tax+=0.1*1000000\n",
    "    rem-=1000000\n",
    "elif rem>1200000:\n",
    "    tax+=0.2*1200000\n",
    "    rem-=1200000\n",
    "else:\n",
    "    tax+=0.3*3000000\n",
    "\n",
    "print(tax)"
   ]
  },
  {
   "cell_type": "code",
   "execution_count": 52,
   "id": "0b9aa3f8-75fc-4b53-b8c3-9d02d7780562",
   "metadata": {},
   "outputs": [
    {
     "name": "stdout",
     "output_type": "stream",
     "text": [
      "1045000.0\n"
     ]
    }
   ],
   "source": [
    "amt=6500000\n",
    "inter=0\n",
    "if amt>=1000000:\n",
    "    inter+=0.1*1000000\n",
    "    amt-=1000000\n",
    "if amt>=1500000:\n",
    "    inter+=0.15*1500000\n",
    "    amt-=1500000\n",
    "if amt>=0:\n",
    "    inter+=0.18*amt\n",
    "\n",
    "print(inter)"
   ]
  },
  {
   "cell_type": "code",
   "execution_count": 94,
   "id": "fea19df2-7299-47fd-924e-f1fcd313ef2f",
   "metadata": {},
   "outputs": [
    {
     "name": "stdout",
     "output_type": "stream",
     "text": [
      "5 is a prime number.\n"
     ]
    }
   ],
   "source": [
    "num=5\n",
    "x=0\n",
    "for i in range(2,num//2):\n",
    "    if num%i==0:\n",
    "        x=1\n",
    "        print(f\"{num} is not a prime number.\")\n",
    "        break\n",
    "if x==0:\n",
    "    print(f\"{num} is a prime number.\")"
   ]
  },
  {
   "cell_type": "code",
   "execution_count": 115,
   "id": "72f04fb8-a0f6-4e30-b78b-5d9ff0a2c115",
   "metadata": {},
   "outputs": [
    {
     "name": "stdout",
     "output_type": "stream",
     "text": [
      "1634 is an Armstrong Number.\n"
     ]
    }
   ],
   "source": [
    "number=1634\n",
    "le=len(str(number))\n",
    "sum=0\n",
    "for i in str(number):\n",
    "    sum+=int(i) ** le\n",
    "\n",
    "if number==sum:\n",
    "    print(f\"{number} is an Armstrong Number.\")\n",
    "else:\n",
    "    print(f\"{number} is not an Armstrong Number.\")\n"
   ]
  },
  {
   "cell_type": "code",
   "execution_count": 117,
   "id": "defcf4bf-1c8f-4359-8807-884ca4d899ce",
   "metadata": {},
   "outputs": [
    {
     "name": "stdout",
     "output_type": "stream",
     "text": [
      "  * \n",
      " * * \n",
      "* * * \n"
     ]
    }
   ],
   "source": [
    "r=3\n",
    "for i in range(1,r+1):\n",
    "    sp=\" \"*(r-i)\n",
    "    s=\"* \"*i\n",
    "    print(sp+s)"
   ]
  },
  {
   "cell_type": "code",
   "execution_count": 149,
   "id": "ffa33359-4422-4269-95b6-cd1f9d1e53e5",
   "metadata": {},
   "outputs": [
    {
     "name": "stdout",
     "output_type": "stream",
     "text": [
      "  1 \n",
      " 2 3 \n",
      "4 5 6 \n"
     ]
    }
   ],
   "source": [
    "r=3\n",
    "n=1\n",
    "for i in range(1,r+1):\n",
    "    sp=\" \"*(r-i)\n",
    "    print(sp,end=\"\")\n",
    "    for j in range(i):\n",
    "        print(n,end=\" \")\n",
    "        n+=1\n",
    "    print()"
   ]
  },
  {
   "cell_type": "code",
   "execution_count": 178,
   "id": "2792345b-4dcd-4316-9811-7119367da58e",
   "metadata": {},
   "outputs": [
    {
     "name": "stdout",
     "output_type": "stream",
     "text": [
      "2 is a prime number.\n",
      "3 is a prime number.\n",
      "5 is a prime number.\n",
      "7 is a prime number.\n",
      "11 is a prime number.\n",
      "13 is a prime number.\n"
     ]
    }
   ],
   "source": [
    "\n",
    "for j in range(2,17):\n",
    "    x=0\n",
    "    for i in range(2,j//2+1):\n",
    "        if j%i==0:\n",
    "            x=1\n",
    "            #print(f\"{j} is not a prime number.\")\n",
    "            break\n",
    "    if x==0:\n",
    "        print(f\"{j} is a prime number.\")"
   ]
  },
  {
   "cell_type": "code",
   "execution_count": 192,
   "id": "99d1f71d-ee02-44bf-9cf4-38cf111f912a",
   "metadata": {},
   "outputs": [
    {
     "name": "stdout",
     "output_type": "stream",
     "text": [
      "[1, 2, 3, 4, 5, 7, 8, 9]\n"
     ]
    }
   ],
   "source": [
    "l=[3,1,7,4,9,5,2,8]\n",
    "for i in range(len(l)):\n",
    "    for j in range(len(l)):\n",
    "        if l[i]<l[j]:\n",
    "            l[i],l[j]=l[j],l[i]\n",
    "print(l)"
   ]
  },
  {
   "cell_type": "code",
   "execution_count": 194,
   "id": "38fe8e81-0956-4aaf-91ac-3be05cd02c58",
   "metadata": {},
   "outputs": [
    {
     "name": "stdout",
     "output_type": "stream",
     "text": [
      "[9, 8, 7, 5, 4, 3, 2, 1]\n"
     ]
    }
   ],
   "source": [
    "l=[3,1,7,4,9,5,2,8]\n",
    "for i in range(len(l)):\n",
    "    for j in range(len(l)):\n",
    "        if l[i]>l[j]:\n",
    "            l[i],l[j]=l[j],l[i]\n",
    "print(l)"
   ]
  },
  {
   "cell_type": "code",
   "execution_count": null,
   "id": "3c520629-808e-43d1-9b83-e781c61a47b9",
   "metadata": {},
   "outputs": [],
   "source": []
  }
 ],
 "metadata": {
  "kernelspec": {
   "display_name": "Python [conda env:base] *",
   "language": "python",
   "name": "conda-base-py"
  },
  "language_info": {
   "codemirror_mode": {
    "name": "ipython",
    "version": 3
   },
   "file_extension": ".py",
   "mimetype": "text/x-python",
   "name": "python",
   "nbconvert_exporter": "python",
   "pygments_lexer": "ipython3",
   "version": "3.12.7"
  }
 },
 "nbformat": 4,
 "nbformat_minor": 5
}
