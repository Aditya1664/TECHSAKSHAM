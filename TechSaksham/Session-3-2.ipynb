{
 "cells": [
  {
   "cell_type": "code",
   "execution_count": 1,
   "id": "ea8389ee-b3d1-40aa-b9c8-05002889d641",
   "metadata": {},
   "outputs": [
    {
     "name": "stdout",
     "output_type": "stream",
     "text": [
      "Toyota 2016\n"
     ]
    }
   ],
   "source": [
    "class car:\n",
    "    def __init__(self,name,year):\n",
    "        self.name=name\n",
    "        self.year=year\n",
    "\n",
    "    def display(self):\n",
    "        print(self.name,self.year)\n",
    "\n",
    "c1=car('Toyota',2016)\n",
    "c1.display()"
   ]
  },
  {
   "cell_type": "code",
   "execution_count": 7,
   "id": "3341067b-81b0-4f9e-aedf-487406496cee",
   "metadata": {},
   "outputs": [
    {
     "name": "stdout",
     "output_type": "stream",
     "text": [
      "Hero CD-100 SS 2000\n",
      "Vivek diwase 20\n"
     ]
    }
   ],
   "source": [
    "class vehicle:\n",
    "    def __init__(self,company,model,year):\n",
    "        self.company=company\n",
    "        self.model=model\n",
    "        self.year=year\n",
    "\n",
    "    def display(self):\n",
    "        print(self.company,self.model,self.year)\n",
    "\n",
    "class owner:\n",
    "    def __init__(self,name,age):\n",
    "        self.name=name\n",
    "        self.age=age\n",
    "\n",
    "    def display(self):\n",
    "        print(self.name,self.age)\n",
    "\n",
    "b1=vehicle('Hero','CD-100 SS',2000)\n",
    "b1.display()\n",
    "\n",
    "o1=owner('Vivek diwase',20)\n",
    "o1.display()"
   ]
  },
  {
   "cell_type": "code",
   "execution_count": 21,
   "id": "dfc38ef3-8284-40bd-8f36-7325ea66896b",
   "metadata": {},
   "outputs": [
    {
     "name": "stdout",
     "output_type": "stream",
     "text": [
      "['Maths']\n",
      "['Maths', 'Dictionary']\n",
      "['Maths']\n"
     ]
    }
   ],
   "source": [
    "class book:\n",
    "    def __init__(self,title):\n",
    "        self.title=title\n",
    "\n",
    "    def add_book(self,li):\n",
    "        li.append(self.title)\n",
    "\n",
    "    def remove_book(self,li):\n",
    "        li.pop()\n",
    "\n",
    "    def display(self,li):\n",
    "        print(li)\n",
    "\n",
    "li=['Maths']\n",
    "b1.display(li)\n",
    "b1=book('Dictionary')\n",
    "b1.add_book(li)\n",
    "b1.display(li)\n",
    "b1.remove_book(li)\n",
    "b1.display(li)\n",
    "        "
   ]
  },
  {
   "cell_type": "code",
   "execution_count": 29,
   "id": "d8c83d18-b0ea-47de-939e-37f63815adfb",
   "metadata": {},
   "outputs": [
    {
     "name": "stdout",
     "output_type": "stream",
     "text": [
      "Dogs breed is:Husky\n"
     ]
    }
   ],
   "source": [
    "class Dog:\n",
    "    def __init__(self,breed):\n",
    "        self.breed=breed\n",
    "\n",
    "    def display(self):\n",
    "        print(f\"Dogs breed is:{self.breed}\")\n",
    "\n",
    "d1=Dog('Husky')\n",
    "d1.display()"
   ]
  },
  {
   "cell_type": "code",
   "execution_count": 41,
   "id": "8b3462aa-95e0-494a-9c75-606b2c1f52e3",
   "metadata": {},
   "outputs": [
    {
     "name": "stdout",
     "output_type": "stream",
     "text": [
      "Rodger is a mammal\n",
      "Tommy is also a mammal\n",
      "My name is Rodger\n",
      "My name is Tommy\n"
     ]
    }
   ],
   "source": [
    "class Dog:\n",
    "    attr1=\"mammal\"\n",
    "    def __init__(self,name):\n",
    "        self.name=name\n",
    "\n",
    "\n",
    "Rodger=Dog(\"Rodger\")\n",
    "Tommy=Dog(\"Tommy\")\n",
    "\n",
    "# Accessing class attributes\n",
    "print(f\"Rodger is a {Rodger.__class__.attr1}\")\n",
    "print(f\"Tommy is also a {Tommy.__class__.attr1}\")\n",
    "\n",
    "# Accessing instance attributes\n",
    "print(f\"My name is {Rodger.name}\")\n",
    "print(f\"My name is {Tommy.name}\")\n"
   ]
  },
  {
   "cell_type": "code",
   "execution_count": 43,
   "id": "234c9223-33df-4046-b6f5-0516b50742ad",
   "metadata": {},
   "outputs": [
    {
     "name": "stdout",
     "output_type": "stream",
     "text": [
      "My name is Rodger\n",
      "My name is Tommy\n"
     ]
    }
   ],
   "source": [
    "class Dog:\n",
    "\n",
    "\t# class attribute\n",
    "\tattr1 = \"mammal\"\n",
    "\n",
    "\t# Instance attribute\n",
    "\tdef __init__(self, name):\n",
    "\t\tself.name = name\n",
    "\t\t\n",
    "\tdef speak(self):\n",
    "\t\tprint(\"My name is {}\".format(self.name))\n",
    "\n",
    "# Driver code\n",
    "# Object instantiation\n",
    "Rodger = Dog(\"Rodger\")\n",
    "Tommy = Dog(\"Tommy\")\n",
    "\n",
    "# Accessing class methods\n",
    "Rodger.speak()\n",
    "Tommy.speak()\n"
   ]
  },
  {
   "cell_type": "code",
   "execution_count": 47,
   "id": "e81d8e9c-b259-4af0-b740-edb006af54c9",
   "metadata": {},
   "outputs": [
    {
     "data": {
      "text/plain": [
       "[2, 4, 6]"
      ]
     },
     "execution_count": 47,
     "metadata": {},
     "output_type": "execute_result"
    }
   ],
   "source": [
    "def check_even_list(num_list):\n",
    "    even_numbers = []\n",
    "    for number in num_list:\n",
    "        if number % 2 == 0:\n",
    "            even_numbers.append(number) \n",
    "    return even_numbers\n",
    "\n",
    "check_even_list([1,2,3,4,5,6])"
   ]
  },
  {
   "cell_type": "code",
   "execution_count": 51,
   "id": "ab348beb-c6c6-486f-bf59-6a67f817e405",
   "metadata": {},
   "outputs": [
    {
     "data": {
      "text/plain": [
       "[1, 3, 5]"
      ]
     },
     "execution_count": 51,
     "metadata": {},
     "output_type": "execute_result"
    }
   ],
   "source": [
    "def check_odd_list(num_list):\n",
    "    odd_numbers = []\n",
    "    for number in num_list:\n",
    "        if number % 2 != 0:\n",
    "            odd_numbers.append(number)\n",
    "    return odd_numbers\n",
    "\n",
    "check_odd_list([1,2,3,4,5,6])"
   ]
  },
  {
   "cell_type": "code",
   "execution_count": 5,
   "id": "1c01031b-5480-44bb-9a2f-944a5ef64696",
   "metadata": {},
   "outputs": [
    {
     "name": "stdout",
     "output_type": "stream",
     "text": [
      "Aditya\n",
      "886012\n",
      "My name is Aditya\n",
      "My Idnumber is 886012\n",
      "My post is Intern\n"
     ]
    }
   ],
   "source": [
    "#Inheritence\n",
    "\n",
    "class Person(object):\n",
    "    def __init__(self,name,idnumber):\n",
    "        self.name=name\n",
    "        self.idnumber=idnumber\n",
    "\n",
    "    def display(self):\n",
    "        print(self.name)\n",
    "        print(self.idnumber)\n",
    "\n",
    "    def details(self):\n",
    "        print(f\"My name is {self.name}\")\n",
    "        print(f\"Idnumber is {self.idnumber}\")\n",
    "\n",
    "class Employee(Person):\n",
    "    def __init__(self,name,idnumber,salary,post):\n",
    "        self.salary=salary\n",
    "        self.post=post\n",
    "\n",
    "        Person.__init__(self,name,idnumber)\n",
    "\n",
    "    def details(self):\n",
    "        print(f\"My name is {self.name}\")\n",
    "        print(f\"My Idnumber is {self.idnumber}\")\n",
    "        print(f\"My post is {self.post}\")\n",
    "\n",
    "a=Employee('Aditya',886012,2000000,'Intern')\n",
    "a.display()\n",
    "a.details()"
   ]
  },
  {
   "cell_type": "code",
   "execution_count": 25,
   "id": "a291c041-2d01-4964-ab88-d973b9ce2b4c",
   "metadata": {},
   "outputs": [
    {
     "name": "stdout",
     "output_type": "stream",
     "text": [
      "Fathers name is:Vinod and age is:48\n",
      "Mothers name is:Prajakta and age is:43\n",
      "Childs name is:Aditya\n",
      "Childs age is:20\n",
      "Fathers name is:Vinod\n",
      "Fathers age is:48\n",
      "Mothers name is:Prajakta\n",
      "Mothers age is:43\n"
     ]
    }
   ],
   "source": [
    "class Dad:\n",
    "    def __init__(self,dname,dage):\n",
    "        self.dname=dname\n",
    "        self.dage=dage\n",
    "\n",
    "    def ddetail(self):\n",
    "        print(f\"Fathers name is:{self.dname} and age is:{self.dage}\")\n",
    "\n",
    "class Mom:\n",
    "    def __init__(self,mname,mage):\n",
    "        self.mname=mname\n",
    "        self.mage=mage\n",
    "\n",
    "    def mdetail(self):\n",
    "        print(f\"Mothers name is:{self.mname} and age is:{self.mage}\")\n",
    "\n",
    "class Son(Dad,Mom):\n",
    "        def __init__(self,name,age,dname,dage,mname,mage):\n",
    "            self.name=name\n",
    "            self.age=age\n",
    "\n",
    "            Dad.__init__(self,dname,dage)\n",
    "            Mom.__init__(self,mname,mage)\n",
    "\n",
    "        def details(self):\n",
    "            print(f\"Childs name is:{self.name}\")\n",
    "            print(f\"Childs age is:{self.age}\")\n",
    "            print(f\"Fathers name is:{self.dname}\")\n",
    "            print(f\"Fathers age is:{self.dage}\")\n",
    "            print(f\"Mothers name is:{self.mname}\")\n",
    "            print(f\"Mothers age is:{self.mage}\")\n",
    "\n",
    "a=Son('Aditya',20,'Vinod',48,'Prajakta',43)\n",
    "a.ddetail()\n",
    "a.mdetail()\n",
    "a.details()\n"
   ]
  },
  {
   "cell_type": "code",
   "execution_count": 36,
   "id": "b3df4f12-0ad9-4037-9a70-4c7521717bc7",
   "metadata": {},
   "outputs": [
    {
     "name": "stdout",
     "output_type": "stream",
     "text": [
      "Father's name is: Vinod and age is: 48\n",
      "Mother's name is: Prajakta and age is: 43\n",
      "Child's name is: Rishi\n",
      "Child's age is: 10\n",
      "Father's name is: Vinod\n",
      "Father's age is: 48\n",
      "Mother's name is: Prajakta\n",
      "Mother's age is: 43\n",
      "Grandchild's name is: Rishi\n",
      "Grandchild's age is: 10\n",
      "Child's name is: Rishi\n",
      "Child's age is: 10\n",
      "Father's name is: Vinod\n",
      "Father's age is: 48\n",
      "Mother's name is: Prajakta\n",
      "Mother's age is: 43\n"
     ]
    }
   ],
   "source": [
    "class Dad:\n",
    "    def __init__(self, dname, dage):\n",
    "        self.dname = dname\n",
    "        self.dage = dage\n",
    "\n",
    "    def ddetail(self):\n",
    "        print(f\"Father's name is: {self.dname} and age is: {self.dage}\")\n",
    "\n",
    "class Mom:\n",
    "    def __init__(self, mname, mage):\n",
    "        self.mname = mname\n",
    "        self.mage = mage\n",
    "\n",
    "    def mdetail(self):\n",
    "        print(f\"Mother's name is: {self.mname} and age is: {self.mage}\")\n",
    "\n",
    "class Son(Dad, Mom):\n",
    "    def __init__(self, name, age, dname, dage, mname, mage):\n",
    "        Dad.__init__(self,dname, dage) \n",
    "        Mom.__init__(self, mname, mage)  \n",
    "        self.name = name\n",
    "        self.age = age\n",
    "\n",
    "    def sdetails(self):\n",
    "        print(f\"Child's name is: {self.name}\")\n",
    "        print(f\"Child's age is: {self.age}\")\n",
    "        print(f\"Father's name is: {self.dname}\")\n",
    "        print(f\"Father's age is: {self.dage}\")\n",
    "        print(f\"Mother's name is: {self.mname}\")\n",
    "        print(f\"Mother's age is: {self.mage}\")\n",
    "\n",
    "class Grand_child(Son):\n",
    "    def __init__(self, name, age, cname, cage, dname, dage, mname, mage):\n",
    "        super().__init__(cname, cage, dname, dage, mname, mage)  \n",
    "        self.name = name\n",
    "        self.age = age\n",
    "\n",
    "    def details(self):\n",
    "        print(f\"Grandchild's name is: {self.name}\")\n",
    "        print(f\"Grandchild's age is: {self.age}\")\n",
    "        print(f\"Child's name is: {self.name}\")\n",
    "        print(f\"Child's age is: {self.age}\")\n",
    "        print(f\"Father's name is: {self.dname}\")\n",
    "        print(f\"Father's age is: {self.dage}\")\n",
    "        print(f\"Mother's name is: {self.mname}\")\n",
    "        print(f\"Mother's age is: {self.mage}\")\n",
    "\n",
    "a = Grand_child('Rishi', 10, 'Aditya', 20, 'Vinod', 48, 'Prajakta', 43)\n",
    "\n",
    "a.ddetail()  \n",
    "a.mdetail()  \n",
    "a.sdetails()  \n",
    "a.details()  \n"
   ]
  },
  {
   "cell_type": "code",
   "execution_count": 88,
   "id": "5a51b35b-2ee8-4a31-aea9-4895216c4962",
   "metadata": {},
   "outputs": [
    {
     "name": "stdout",
     "output_type": "stream",
     "text": [
      "6 is not a prime number.\n",
      "7 is a prime number.\n",
      "1634 is an Armstrong Number.\n",
      "  * \n",
      " * * \n",
      "* * * \n",
      "  1 \n",
      " 2 3 \n",
      "4 5 6 \n",
      "0 1 1 2 3 5 8 13 21 34 \n"
     ]
    }
   ],
   "source": [
    "class Prime:\n",
    "    def __init__(self,number):\n",
    "        self.number=number\n",
    "\n",
    "    def check_prime(self):\n",
    "        x=0\n",
    "        for i in range(2,(self.number)//2):\n",
    "            if (self.number)%i==0:\n",
    "                x=1\n",
    "                print(f\"{self.number} is not a prime number.\")\n",
    "                break\n",
    "        if x==0:\n",
    "            print(f\"{self.number} is a prime number.\")\n",
    "\n",
    "class Arm:\n",
    "    def __init__(self,number):\n",
    "        self.number=number\n",
    "\n",
    "    def check_arm(self):\n",
    "        le=len(str(self.number))\n",
    "        sum=0\n",
    "        for i in str(self.number):\n",
    "            sum+=int(i) ** le\n",
    "\n",
    "        if self.number==sum:\n",
    "            print(f\"{self.number} is an Armstrong Number.\")\n",
    "        else:\n",
    "            print(f\"{self.number} is not an Armstrong Number.\")\n",
    "\n",
    "class Pat:\n",
    "    def __init__(self,number):\n",
    "        self.number=number\n",
    "\n",
    "    def draw_pat(self):\n",
    "        for i in range(1,self.number+1):\n",
    "            sp=\" \"*(self.number-i)\n",
    "            s=\"* \"*i\n",
    "            print(sp+s)\n",
    "\n",
    "class Num:\n",
    "    def __init__(self,number):\n",
    "        self.number=number\n",
    "\n",
    "    def check_num(self):\n",
    "        n=1\n",
    "        for i in range(1,self.number+1):\n",
    "            sp=\" \"*(self.number-i)\n",
    "            print(sp,end=\"\")\n",
    "            for j in range(i):\n",
    "                print(n,end=\" \")\n",
    "                n+=1\n",
    "            print()\n",
    "\n",
    "class Fib:\n",
    "    def __init__(self, number):\n",
    "        self.number = number\n",
    "\n",
    "    def generate_fibonacci(self):\n",
    "        a, b = 0, 1\n",
    "        count = 0\n",
    "\n",
    "        while count < self.number:\n",
    "            print(a, end=\" \")\n",
    "            a, b = b, a + b\n",
    "            count += 1\n",
    "        print()\n",
    "\n",
    "\n",
    "a=Prime(6)\n",
    "a.check_prime()\n",
    "\n",
    "a=Prime(7)\n",
    "a.check_prime()\n",
    "\n",
    "b=Arm(1634)\n",
    "b.check_arm()\n",
    "\n",
    "c=Pat(3)\n",
    "c.draw_pat()\n",
    "\n",
    "d=Num(3)\n",
    "d.check_num()\n",
    "\n",
    "f = Fib(10)\n",
    "f.generate_fibonacci()\n"
   ]
  },
  {
   "cell_type": "code",
   "execution_count": null,
   "id": "e9a8840d-b3a1-4cb7-8f53-48c32582366e",
   "metadata": {},
   "outputs": [],
   "source": [
    "face,insta,whats,same community, print\"This is from which community\""
   ]
  },
  {
   "cell_type": "code",
   "execution_count": 90,
   "id": "ad53fd8a-b3c3-40af-8519-c09e737b8ed6",
   "metadata": {},
   "outputs": [
    {
     "name": "stdout",
     "output_type": "stream",
     "text": [
      "I am Fb\n",
      "I am Insta\n",
      "I am Whassp\n"
     ]
    }
   ],
   "source": [
    "class Facebook:\n",
    "    def __init__(self):\n",
    "        pass\n",
    "    def community(self):\n",
    "        print(\"I am Fb\")\n",
    "\n",
    "class Instagram:\n",
    "    def __init__(self):\n",
    "        pass\n",
    "    def community(self):\n",
    "        print(\"I am Insta\")\n",
    "\n",
    "class Whatsapp:\n",
    "    def __init__(self):\n",
    "        pass\n",
    "    def community(self):\n",
    "        print(\"I am Whassp\")\n",
    "\n",
    "x,y,z=Facebook(),Instagram(),Whatsapp()\n",
    "x.community()\n",
    "y.community()\n",
    "z.community()"
   ]
  },
  {
   "cell_type": "code",
   "execution_count": null,
   "id": "5c2a6192-c62c-4493-aa76-f17ab370f3f9",
   "metadata": {},
   "outputs": [],
   "source": []
  }
 ],
 "metadata": {
  "kernelspec": {
   "display_name": "Python [conda env:base] *",
   "language": "python",
   "name": "conda-base-py"
  },
  "language_info": {
   "codemirror_mode": {
    "name": "ipython",
    "version": 3
   },
   "file_extension": ".py",
   "mimetype": "text/x-python",
   "name": "python",
   "nbconvert_exporter": "python",
   "pygments_lexer": "ipython3",
   "version": "3.12.7"
  }
 },
 "nbformat": 4,
 "nbformat_minor": 5
}
