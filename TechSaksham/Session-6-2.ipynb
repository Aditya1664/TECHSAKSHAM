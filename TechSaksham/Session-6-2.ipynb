{
 "cells": [
  {
   "cell_type": "code",
   "execution_count": 5,
   "id": "7807a422-e8ac-494a-9eb6-3b20db6d5cb2",
   "metadata": {},
   "outputs": [
    {
     "name": "stdout",
     "output_type": "stream",
     "text": [
      "Hello, my name is Aditya Doshi\n"
     ]
    }
   ],
   "source": [
    "def read_file_contents(file_name):\n",
    "    file = None\n",
    "    try:\n",
    "        file = open(\"C:\\\\Users\\\\doshi\\\\Desktop\\\\z.txt\", 'r')\n",
    "        content = file.read()\n",
    "        return content\n",
    "    except FileNotFoundError:\n",
    "        return \"The file does not exist.\"\n",
    "    except PermissionError:\n",
    "        return \"Permission denied: you don't have access to this file.\"\n",
    "    finally:\n",
    "        if file:\n",
    "            file.close()\n",
    "file_content = read_file_contents('example.txt')\n",
    "print(file_content)"
   ]
  },
  {
   "cell_type": "code",
   "execution_count": null,
   "id": "01682873-849a-454a-8836-47b829525276",
   "metadata": {},
   "outputs": [],
   "source": [
    "lst = list(map(int, input(\"Enter elements of the list (space-separated): \").split()))\n",
    "element = int(input(\"Enter the element to remove: \"))\n",
    "while element in lst:\n",
    "    lst.remove(element)\n",
    "print(\"Updated list:\", lst)"
   ]
  },
  {
   "cell_type": "code",
   "execution_count": 7,
   "id": "8a39b5ea-e7d1-4b89-9767-43ed72ea03b9",
   "metadata": {},
   "outputs": [
    {
     "name": "stdout",
     "output_type": "stream",
     "text": [
      "True\n"
     ]
    }
   ],
   "source": [
    "print('abcd'.isalpha())"
   ]
  },
  {
   "cell_type": "code",
   "execution_count": 9,
   "id": "6faff0aa-03dc-4ade-8e4a-2d05fde24fc8",
   "metadata": {},
   "outputs": [
    {
     "data": {
      "text/plain": [
       "512"
      ]
     },
     "execution_count": 9,
     "metadata": {},
     "output_type": "execute_result"
    }
   ],
   "source": [
    "2**3**2"
   ]
  },
  {
   "cell_type": "code",
   "execution_count": 11,
   "id": "36612ba8-bc9b-4918-a945-63738677e6d2",
   "metadata": {},
   "outputs": [
    {
     "data": {
      "text/plain": [
       "[0, 1, 4]"
      ]
     },
     "execution_count": 11,
     "metadata": {},
     "output_type": "execute_result"
    }
   ],
   "source": [
    "[i * i for i in range(3)]"
   ]
  },
  {
   "cell_type": "code",
   "execution_count": 13,
   "id": "d3f44ca0-f0cc-4cb6-912e-231beeebe093",
   "metadata": {},
   "outputs": [
    {
     "name": "stdout",
     "output_type": "stream",
     "text": [
      "7\n"
     ]
    }
   ],
   "source": [
    "print(10-3)"
   ]
  },
  {
   "cell_type": "code",
   "execution_count": 15,
   "id": "19f03b44-5bb4-4094-ad11-79f7ab7b4db3",
   "metadata": {},
   "outputs": [
    {
     "data": {
      "text/plain": [
       "True"
      ]
     },
     "execution_count": 15,
     "metadata": {},
     "output_type": "execute_result"
    }
   ],
   "source": [
    "'Hello'.endswith('o')"
   ]
  },
  {
   "cell_type": "code",
   "execution_count": 17,
   "id": "3d0fb4a0-8175-47ee-9b96-ad0919517b4a",
   "metadata": {},
   "outputs": [
    {
     "data": {
      "text/plain": [
       "2"
      ]
     },
     "execution_count": 17,
     "metadata": {},
     "output_type": "execute_result"
    }
   ],
   "source": [
    "5//2"
   ]
  },
  {
   "cell_type": "code",
   "execution_count": 19,
   "id": "90357cbd-53db-47ef-b2c1-ab580dffb71d",
   "metadata": {},
   "outputs": [
    {
     "data": {
      "text/plain": [
       "'e'"
      ]
     },
     "execution_count": 19,
     "metadata": {},
     "output_type": "execute_result"
    }
   ],
   "source": [
    "'Hello'[1]"
   ]
  },
  {
   "cell_type": "code",
   "execution_count": 21,
   "id": "7f69e76d-e496-4837-9288-d63d4cd3671b",
   "metadata": {},
   "outputs": [
    {
     "data": {
      "text/plain": [
       "True"
      ]
     },
     "execution_count": 21,
     "metadata": {},
     "output_type": "execute_result"
    }
   ],
   "source": [
    "3==3.0"
   ]
  },
  {
   "cell_type": "code",
   "execution_count": null,
   "id": "e98728a5-c2e3-441c-a900-efcf0d6ee6aa",
   "metadata": {},
   "outputs": [],
   "source": []
  }
 ],
 "metadata": {
  "kernelspec": {
   "display_name": "Python [conda env:base] *",
   "language": "python",
   "name": "conda-base-py"
  },
  "language_info": {
   "codemirror_mode": {
    "name": "ipython",
    "version": 3
   },
   "file_extension": ".py",
   "mimetype": "text/x-python",
   "name": "python",
   "nbconvert_exporter": "python",
   "pygments_lexer": "ipython3",
   "version": "3.12.7"
  }
 },
 "nbformat": 4,
 "nbformat_minor": 5
}
