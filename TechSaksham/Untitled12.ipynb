{
 "cells": [
  {
   "cell_type": "code",
   "execution_count": 1,
   "id": "ea8389ee-b3d1-40aa-b9c8-05002889d641",
   "metadata": {},
   "outputs": [
    {
     "name": "stdout",
     "output_type": "stream",
     "text": [
      "Toyota 2016\n"
     ]
    }
   ],
   "source": [
    "class car:\n",
    "    def __init__(self,name,year):\n",
    "        self.name=name\n",
    "        self.year=year\n",
    "\n",
    "    def display(self):\n",
    "        print(self.name,self.year)\n",
    "\n",
    "c1=car('Toyota',2016)\n",
    "c1.display()"
   ]
  },
  {
   "cell_type": "code",
   "execution_count": 7,
   "id": "3341067b-81b0-4f9e-aedf-487406496cee",
   "metadata": {},
   "outputs": [
    {
     "name": "stdout",
     "output_type": "stream",
     "text": [
      "Hero CD-100 SS 2000\n",
      "Vivek diwase 20\n"
     ]
    }
   ],
   "source": [
    "class vehicle:\n",
    "    def __init__(self,company,model,year):\n",
    "        self.company=company\n",
    "        self.model=model\n",
    "        self.year=year\n",
    "\n",
    "    def display(self):\n",
    "        print(self.company,self.model,self.year)\n",
    "\n",
    "class owner:\n",
    "    def __init__(self,name,age):\n",
    "        self.name=name\n",
    "        self.age=age\n",
    "\n",
    "    def display(self):\n",
    "        print(self.name,self.age)\n",
    "\n",
    "b1=vehicle('Hero','CD-100 SS',2000)\n",
    "b1.display()\n",
    "\n",
    "o1=owner('Vivek diwase',20)\n",
    "o1.display()"
   ]
  },
  {
   "cell_type": "code",
   "execution_count": 21,
   "id": "dfc38ef3-8284-40bd-8f36-7325ea66896b",
   "metadata": {},
   "outputs": [
    {
     "name": "stdout",
     "output_type": "stream",
     "text": [
      "['Maths']\n",
      "['Maths', 'Dictionary']\n",
      "['Maths']\n"
     ]
    }
   ],
   "source": [
    "class book:\n",
    "    def __init__(self,title):\n",
    "        self.title=title\n",
    "\n",
    "    def add_book(self,li):\n",
    "        li.append(self.title)\n",
    "\n",
    "    def remove_book(self,li):\n",
    "        li.pop()\n",
    "\n",
    "    def display(self,li):\n",
    "        print(li)\n",
    "\n",
    "li=['Maths']\n",
    "b1.display(li)\n",
    "b1=book('Dictionary')\n",
    "b1.add_book(li)\n",
    "b1.display(li)\n",
    "b1.remove_book(li)\n",
    "b1.display(li)\n",
    "        "
   ]
  },
  {
   "cell_type": "code",
   "execution_count": 29,
   "id": "d8c83d18-b0ea-47de-939e-37f63815adfb",
   "metadata": {},
   "outputs": [
    {
     "name": "stdout",
     "output_type": "stream",
     "text": [
      "Dogs breed is:Husky\n"
     ]
    }
   ],
   "source": [
    "class Dog:\n",
    "    def __init__(self,breed):\n",
    "        self.breed=breed\n",
    "\n",
    "    def display(self):\n",
    "        print(f\"Dogs breed is:{self.breed}\")\n",
    "\n",
    "d1=Dog('Husky')\n",
    "d1.display()"
   ]
  },
  {
   "cell_type": "code",
   "execution_count": 41,
   "id": "8b3462aa-95e0-494a-9c75-606b2c1f52e3",
   "metadata": {},
   "outputs": [
    {
     "name": "stdout",
     "output_type": "stream",
     "text": [
      "Rodger is a mammal\n",
      "Tommy is also a mammal\n",
      "My name is Rodger\n",
      "My name is Tommy\n"
     ]
    }
   ],
   "source": [
    "class Dog:\n",
    "    attr1=\"mammal\"\n",
    "    def __init__(self,name):\n",
    "        self.name=name\n",
    "\n",
    "\n",
    "Rodger=Dog(\"Rodger\")\n",
    "Tommy=Dog(\"Tommy\")\n",
    "\n",
    "# Accessing class attributes\n",
    "print(f\"Rodger is a {Rodger.__class__.attr1}\")\n",
    "print(f\"Tommy is also a {Tommy.__class__.attr1}\")\n",
    "\n",
    "# Accessing instance attributes\n",
    "print(f\"My name is {Rodger.name}\")\n",
    "print(f\"My name is {Tommy.name}\")\n"
   ]
  },
  {
   "cell_type": "code",
   "execution_count": 43,
   "id": "234c9223-33df-4046-b6f5-0516b50742ad",
   "metadata": {},
   "outputs": [
    {
     "name": "stdout",
     "output_type": "stream",
     "text": [
      "My name is Rodger\n",
      "My name is Tommy\n"
     ]
    }
   ],
   "source": [
    "class Dog:\n",
    "\n",
    "\t# class attribute\n",
    "\tattr1 = \"mammal\"\n",
    "\n",
    "\t# Instance attribute\n",
    "\tdef __init__(self, name):\n",
    "\t\tself.name = name\n",
    "\t\t\n",
    "\tdef speak(self):\n",
    "\t\tprint(\"My name is {}\".format(self.name))\n",
    "\n",
    "# Driver code\n",
    "# Object instantiation\n",
    "Rodger = Dog(\"Rodger\")\n",
    "Tommy = Dog(\"Tommy\")\n",
    "\n",
    "# Accessing class methods\n",
    "Rodger.speak()\n",
    "Tommy.speak()\n"
   ]
  },
  {
   "cell_type": "code",
   "execution_count": 47,
   "id": "e81d8e9c-b259-4af0-b740-edb006af54c9",
   "metadata": {},
   "outputs": [
    {
     "data": {
      "text/plain": [
       "[2, 4, 6]"
      ]
     },
     "execution_count": 47,
     "metadata": {},
     "output_type": "execute_result"
    }
   ],
   "source": [
    "def check_even_list(num_list):\n",
    "    even_numbers = []\n",
    "    for number in num_list:\n",
    "        if number % 2 == 0:\n",
    "            even_numbers.append(number) \n",
    "    return even_numbers\n",
    "\n",
    "check_even_list([1,2,3,4,5,6])"
   ]
  },
  {
   "cell_type": "code",
   "execution_count": 51,
   "id": "ab348beb-c6c6-486f-bf59-6a67f817e405",
   "metadata": {},
   "outputs": [
    {
     "data": {
      "text/plain": [
       "[1, 3, 5]"
      ]
     },
     "execution_count": 51,
     "metadata": {},
     "output_type": "execute_result"
    }
   ],
   "source": [
    "def check_odd_list(num_list):\n",
    "    odd_numbers = []\n",
    "    for number in num_list:\n",
    "        if number % 2 != 0:\n",
    "            odd_numbers.append(number)\n",
    "    return odd_numbers\n",
    "\n",
    "check_odd_list([1,2,3,4,5,6])"
   ]
  },
  {
   "cell_type": "code",
   "execution_count": null,
   "id": "1c01031b-5480-44bb-9a2f-944a5ef64696",
   "metadata": {},
   "outputs": [],
   "source": [
    "#Inheritence\n",
    "\n",
    "class Person(object):\n",
    "    def __init__(self,name,idnumber):\n",
    "        self.name=name\n",
    "        self.idnumber=idnumber\n",
    "\n",
    "    def display(self):\n",
    "        print(self.name)\n"
   ]
  }
 ],
 "metadata": {
  "kernelspec": {
   "display_name": "Python [conda env:base] *",
   "language": "python",
   "name": "conda-base-py"
  },
  "language_info": {
   "codemirror_mode": {
    "name": "ipython",
    "version": 3
   },
   "file_extension": ".py",
   "mimetype": "text/x-python",
   "name": "python",
   "nbconvert_exporter": "python",
   "pygments_lexer": "ipython3",
   "version": "3.12.7"
  }
 },
 "nbformat": 4,
 "nbformat_minor": 5
}
